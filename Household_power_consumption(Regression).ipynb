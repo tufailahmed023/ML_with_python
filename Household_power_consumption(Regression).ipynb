{
 "cells": [
  {
   "cell_type": "markdown",
   "id": "b7462eed",
   "metadata": {},
   "source": [
    "# Household_power_consumption"
   ]
  },
  {
   "cell_type": "markdown",
   "id": "d1e02780",
   "metadata": {},
   "source": [
    "**Attribute Information:**\n",
    "\n",
    "1. date: Date in format dd/mm/yyyy <br> \n",
    "<br>\n",
    "2. time: time in format hh:mm:ss <br>\n",
    "<br>\n",
    "3. global_active_power: household global minute-averaged active power (in kilowatt) <br>\n",
    "<br>\n",
    "4. global_reactive_power: household global minute-averaged reactive power (in kilowatt) <br>\n",
    "<br>\n",
    "5. voltage: minute-averaged voltage (in volt) <br>\n",
    "<br>\n",
    "6. global_intensity: household global minute-averaged current intensity (in ampere) <br>\n",
    "<br>\n",
    "7. sub_metering_1: energy sub-metering No. 1 (in watt-hour of active energy). It corresponds to the kitchen, containing mainly a dishwasher, an oven and a microwave (hot plates are not electric but gas powered). <br>\n",
    "<br>\n",
    "8. sub_metering_2: energy sub-metering No. 2 (in watt-hour of active energy). It corresponds to the laundry room, containing a washing-machine, a tumble-drier, a refrigerator and a light.<br>\n",
    "<br>\n",
    "9. sub_metering_3: energy sub-metering No. 3 (in watt-hour of active energy). It corresponds to an electric water-heater and an air-conditioner. <br>"
   ]
  },
  {
   "cell_type": "code",
   "execution_count": 88,
   "id": "e0a8a6d9",
   "metadata": {},
   "outputs": [],
   "source": [
    "# Importing then data and loading the lib"
   ]
  },
  {
   "cell_type": "code",
   "execution_count": 89,
   "id": "d908f43a",
   "metadata": {},
   "outputs": [],
   "source": [
    "import numpy as np \n",
    "import pandas as pd"
   ]
  },
  {
   "cell_type": "code",
   "execution_count": 90,
   "id": "937b56bd",
   "metadata": {},
   "outputs": [],
   "source": [
    "#df=pd.read_csv(\"household_power_consumption.txt\",delimiter=';',)"
   ]
  },
  {
   "cell_type": "code",
   "execution_count": 91,
   "id": "5fc7822a",
   "metadata": {},
   "outputs": [],
   "source": [
    "#df.to_csv(\"household_power_consumption.csv\",index=None)"
   ]
  },
  {
   "cell_type": "code",
   "execution_count": 92,
   "id": "09d0336b",
   "metadata": {},
   "outputs": [],
   "source": [
    "#the data is too much so taking a 50,000 random sample"
   ]
  },
  {
   "cell_type": "code",
   "execution_count": 93,
   "id": "507defc2",
   "metadata": {},
   "outputs": [
    {
     "name": "stderr",
     "output_type": "stream",
     "text": [
      "C:\\Users\\KIIT\\anaconda3\\lib\\site-packages\\IPython\\core\\interactiveshell.py:3457: DtypeWarning: Columns (2,3,4,5,6,7) have mixed types.Specify dtype option on import or set low_memory=False.\n",
      "  exec(code_obj, self.user_global_ns, self.user_ns)\n"
     ]
    }
   ],
   "source": [
    "df=pd.read_csv('household_power_consumption.csv')"
   ]
  },
  {
   "cell_type": "code",
   "execution_count": 94,
   "id": "e103d067",
   "metadata": {},
   "outputs": [],
   "source": [
    "df=df.sample(50000)"
   ]
  },
  {
   "cell_type": "code",
   "execution_count": 95,
   "id": "c1f2ed5b",
   "metadata": {
    "scrolled": false
   },
   "outputs": [
    {
     "data": {
      "text/html": [
       "<div>\n",
       "<style scoped>\n",
       "    .dataframe tbody tr th:only-of-type {\n",
       "        vertical-align: middle;\n",
       "    }\n",
       "\n",
       "    .dataframe tbody tr th {\n",
       "        vertical-align: top;\n",
       "    }\n",
       "\n",
       "    .dataframe thead th {\n",
       "        text-align: right;\n",
       "    }\n",
       "</style>\n",
       "<table border=\"1\" class=\"dataframe\">\n",
       "  <thead>\n",
       "    <tr style=\"text-align: right;\">\n",
       "      <th></th>\n",
       "      <th>Date</th>\n",
       "      <th>Time</th>\n",
       "      <th>Global_active_power</th>\n",
       "      <th>Global_reactive_power</th>\n",
       "      <th>Voltage</th>\n",
       "      <th>Global_intensity</th>\n",
       "      <th>Sub_metering_1</th>\n",
       "      <th>Sub_metering_2</th>\n",
       "      <th>Sub_metering_3</th>\n",
       "    </tr>\n",
       "  </thead>\n",
       "  <tbody>\n",
       "    <tr>\n",
       "      <th>1816081</th>\n",
       "      <td>30/5/2010</td>\n",
       "      <td>21:25:00</td>\n",
       "      <td>2.182</td>\n",
       "      <td>0.174</td>\n",
       "      <td>239.580</td>\n",
       "      <td>9.000</td>\n",
       "      <td>0.000</td>\n",
       "      <td>0.000</td>\n",
       "      <td>19.0</td>\n",
       "    </tr>\n",
       "    <tr>\n",
       "      <th>10082</th>\n",
       "      <td>23/12/2006</td>\n",
       "      <td>17:26:00</td>\n",
       "      <td>4.848</td>\n",
       "      <td>0.140</td>\n",
       "      <td>232.450</td>\n",
       "      <td>20.800</td>\n",
       "      <td>1.000</td>\n",
       "      <td>1.000</td>\n",
       "      <td>16.0</td>\n",
       "    </tr>\n",
       "    <tr>\n",
       "      <th>576975</th>\n",
       "      <td>21/1/2008</td>\n",
       "      <td>09:39:00</td>\n",
       "      <td>1.546</td>\n",
       "      <td>0.084</td>\n",
       "      <td>239.360</td>\n",
       "      <td>6.400</td>\n",
       "      <td>0.000</td>\n",
       "      <td>1.000</td>\n",
       "      <td>18.0</td>\n",
       "    </tr>\n",
       "    <tr>\n",
       "      <th>636401</th>\n",
       "      <td>2/3/2008</td>\n",
       "      <td>16:05:00</td>\n",
       "      <td>2.408</td>\n",
       "      <td>0.000</td>\n",
       "      <td>238.250</td>\n",
       "      <td>10.400</td>\n",
       "      <td>0.000</td>\n",
       "      <td>29.000</td>\n",
       "      <td>0.0</td>\n",
       "    </tr>\n",
       "    <tr>\n",
       "      <th>616359</th>\n",
       "      <td>17/2/2008</td>\n",
       "      <td>18:03:00</td>\n",
       "      <td>1.428</td>\n",
       "      <td>0.000</td>\n",
       "      <td>235.020</td>\n",
       "      <td>6.200</td>\n",
       "      <td>0.000</td>\n",
       "      <td>0.000</td>\n",
       "      <td>0.0</td>\n",
       "    </tr>\n",
       "  </tbody>\n",
       "</table>\n",
       "</div>"
      ],
      "text/plain": [
       "               Date      Time Global_active_power Global_reactive_power  \\\n",
       "1816081   30/5/2010  21:25:00               2.182                 0.174   \n",
       "10082    23/12/2006  17:26:00               4.848                 0.140   \n",
       "576975    21/1/2008  09:39:00               1.546                 0.084   \n",
       "636401     2/3/2008  16:05:00               2.408                 0.000   \n",
       "616359    17/2/2008  18:03:00               1.428                 0.000   \n",
       "\n",
       "         Voltage Global_intensity Sub_metering_1 Sub_metering_2  \\\n",
       "1816081  239.580            9.000          0.000          0.000   \n",
       "10082    232.450           20.800          1.000          1.000   \n",
       "576975   239.360            6.400          0.000          1.000   \n",
       "636401   238.250           10.400          0.000         29.000   \n",
       "616359   235.020            6.200          0.000          0.000   \n",
       "\n",
       "         Sub_metering_3  \n",
       "1816081            19.0  \n",
       "10082              16.0  \n",
       "576975             18.0  \n",
       "636401              0.0  \n",
       "616359              0.0  "
      ]
     },
     "execution_count": 95,
     "metadata": {},
     "output_type": "execute_result"
    }
   ],
   "source": [
    "df.head()"
   ]
  },
  {
   "cell_type": "code",
   "execution_count": 96,
   "id": "a333d045",
   "metadata": {
    "scrolled": true
   },
   "outputs": [
    {
     "data": {
      "text/plain": [
       "(50000, 9)"
      ]
     },
     "execution_count": 96,
     "metadata": {},
     "output_type": "execute_result"
    }
   ],
   "source": [
    "df.shape"
   ]
  },
  {
   "cell_type": "code",
   "execution_count": 97,
   "id": "02e3be30",
   "metadata": {},
   "outputs": [],
   "source": [
    "# Geting to know the columns"
   ]
  },
  {
   "cell_type": "code",
   "execution_count": 98,
   "id": "493e6762",
   "metadata": {},
   "outputs": [
    {
     "data": {
      "text/plain": [
       "Index(['Date', 'Time', 'Global_active_power', 'Global_reactive_power',\n",
       "       'Voltage', 'Global_intensity', 'Sub_metering_1', 'Sub_metering_2',\n",
       "       'Sub_metering_3'],\n",
       "      dtype='object')"
      ]
     },
     "execution_count": 98,
     "metadata": {},
     "output_type": "execute_result"
    }
   ],
   "source": [
    "df.columns"
   ]
  },
  {
   "cell_type": "code",
   "execution_count": 99,
   "id": "92fca525",
   "metadata": {},
   "outputs": [],
   "source": [
    "# CHecking there types"
   ]
  },
  {
   "cell_type": "code",
   "execution_count": 100,
   "id": "b908ce38",
   "metadata": {},
   "outputs": [
    {
     "data": {
      "text/plain": [
       "Date                      object\n",
       "Time                      object\n",
       "Global_active_power       object\n",
       "Global_reactive_power     object\n",
       "Voltage                   object\n",
       "Global_intensity          object\n",
       "Sub_metering_1            object\n",
       "Sub_metering_2            object\n",
       "Sub_metering_3           float64\n",
       "dtype: object"
      ]
     },
     "execution_count": 100,
     "metadata": {},
     "output_type": "execute_result"
    }
   ],
   "source": [
    "df.dtypes"
   ]
  },
  {
   "cell_type": "code",
   "execution_count": 101,
   "id": "54bf24b6",
   "metadata": {},
   "outputs": [
    {
     "data": {
      "text/plain": [
       "' Date                      datatime\\n    Time                      datetime\\n    Global_active_power       float\\n    Global_reactive_power     float\\n    Voltage                   float\\n    Global_intensity          float\\n    Sub_metering_1            float\\n    Sub_metering_2            float\\n    Sub_metering_3           float64'"
      ]
     },
     "execution_count": 101,
     "metadata": {},
     "output_type": "execute_result"
    }
   ],
   "source": [
    "''' Date                      datatime\n",
    "    Time                      datetime\n",
    "    Global_active_power       float\n",
    "    Global_reactive_power     float\n",
    "    Voltage                   float\n",
    "    Global_intensity          float\n",
    "    Sub_metering_1            float\n",
    "    Sub_metering_2            float\n",
    "    Sub_metering_3           float64'''\n"
   ]
  },
  {
   "cell_type": "code",
   "execution_count": 102,
   "id": "e8b0b259",
   "metadata": {},
   "outputs": [],
   "source": [
    "#Will drop date, time column before modeling and have to change all dtypes except the Sub_metering_3 "
   ]
  },
  {
   "cell_type": "code",
   "execution_count": 103,
   "id": "e8b97b22",
   "metadata": {},
   "outputs": [
    {
     "data": {
      "text/plain": [
       "0.000     44319\n",
       "1.000      2044\n",
       "0.0         930\n",
       "?           650\n",
       "2.000       444\n",
       "          ...  \n",
       "60.000        1\n",
       "67.000        1\n",
       "76.000        1\n",
       "54.0          1\n",
       "34.0          1\n",
       "Name: Sub_metering_1, Length: 98, dtype: int64"
      ]
     },
     "execution_count": 103,
     "metadata": {},
     "output_type": "execute_result"
    }
   ],
   "source": [
    "df['Sub_metering_1'].value_counts()"
   ]
  },
  {
   "cell_type": "code",
   "execution_count": 104,
   "id": "60dacc27",
   "metadata": {
    "scrolled": false
   },
   "outputs": [
    {
     "data": {
      "text/html": [
       "<div>\n",
       "<style scoped>\n",
       "    .dataframe tbody tr th:only-of-type {\n",
       "        vertical-align: middle;\n",
       "    }\n",
       "\n",
       "    .dataframe tbody tr th {\n",
       "        vertical-align: top;\n",
       "    }\n",
       "\n",
       "    .dataframe thead th {\n",
       "        text-align: right;\n",
       "    }\n",
       "</style>\n",
       "<table border=\"1\" class=\"dataframe\">\n",
       "  <thead>\n",
       "    <tr style=\"text-align: right;\">\n",
       "      <th></th>\n",
       "      <th>Date</th>\n",
       "      <th>Time</th>\n",
       "      <th>Global_active_power</th>\n",
       "      <th>Global_reactive_power</th>\n",
       "      <th>Voltage</th>\n",
       "      <th>Global_intensity</th>\n",
       "      <th>Sub_metering_1</th>\n",
       "      <th>Sub_metering_2</th>\n",
       "      <th>Sub_metering_3</th>\n",
       "    </tr>\n",
       "  </thead>\n",
       "  <tbody>\n",
       "    <tr>\n",
       "      <th>1935230</th>\n",
       "      <td>21/8/2010</td>\n",
       "      <td>15:14:00</td>\n",
       "      <td>?</td>\n",
       "      <td>?</td>\n",
       "      <td>?</td>\n",
       "      <td>?</td>\n",
       "      <td>?</td>\n",
       "      <td>?</td>\n",
       "      <td>NaN</td>\n",
       "    </tr>\n",
       "    <tr>\n",
       "      <th>1985114</th>\n",
       "      <td>25/9/2010</td>\n",
       "      <td>06:38:00</td>\n",
       "      <td>?</td>\n",
       "      <td>?</td>\n",
       "      <td>?</td>\n",
       "      <td>?</td>\n",
       "      <td>?</td>\n",
       "      <td>?</td>\n",
       "      <td>NaN</td>\n",
       "    </tr>\n",
       "    <tr>\n",
       "      <th>1985922</th>\n",
       "      <td>25/9/2010</td>\n",
       "      <td>20:06:00</td>\n",
       "      <td>?</td>\n",
       "      <td>?</td>\n",
       "      <td>?</td>\n",
       "      <td>?</td>\n",
       "      <td>?</td>\n",
       "      <td>?</td>\n",
       "      <td>NaN</td>\n",
       "    </tr>\n",
       "    <tr>\n",
       "      <th>1930957</th>\n",
       "      <td>18/8/2010</td>\n",
       "      <td>16:01:00</td>\n",
       "      <td>?</td>\n",
       "      <td>?</td>\n",
       "      <td>?</td>\n",
       "      <td>?</td>\n",
       "      <td>?</td>\n",
       "      <td>?</td>\n",
       "      <td>NaN</td>\n",
       "    </tr>\n",
       "    <tr>\n",
       "      <th>1932039</th>\n",
       "      <td>19/8/2010</td>\n",
       "      <td>10:03:00</td>\n",
       "      <td>?</td>\n",
       "      <td>?</td>\n",
       "      <td>?</td>\n",
       "      <td>?</td>\n",
       "      <td>?</td>\n",
       "      <td>?</td>\n",
       "      <td>NaN</td>\n",
       "    </tr>\n",
       "    <tr>\n",
       "      <th>...</th>\n",
       "      <td>...</td>\n",
       "      <td>...</td>\n",
       "      <td>...</td>\n",
       "      <td>...</td>\n",
       "      <td>...</td>\n",
       "      <td>...</td>\n",
       "      <td>...</td>\n",
       "      <td>...</td>\n",
       "      <td>...</td>\n",
       "    </tr>\n",
       "    <tr>\n",
       "      <th>1617610</th>\n",
       "      <td>13/1/2010</td>\n",
       "      <td>01:34:00</td>\n",
       "      <td>?</td>\n",
       "      <td>?</td>\n",
       "      <td>?</td>\n",
       "      <td>?</td>\n",
       "      <td>?</td>\n",
       "      <td>?</td>\n",
       "      <td>NaN</td>\n",
       "    </tr>\n",
       "    <tr>\n",
       "      <th>192691</th>\n",
       "      <td>29/4/2007</td>\n",
       "      <td>12:55:00</td>\n",
       "      <td>?</td>\n",
       "      <td>?</td>\n",
       "      <td>?</td>\n",
       "      <td>?</td>\n",
       "      <td>?</td>\n",
       "      <td>?</td>\n",
       "      <td>NaN</td>\n",
       "    </tr>\n",
       "    <tr>\n",
       "      <th>192822</th>\n",
       "      <td>29/4/2007</td>\n",
       "      <td>15:06:00</td>\n",
       "      <td>?</td>\n",
       "      <td>?</td>\n",
       "      <td>?</td>\n",
       "      <td>?</td>\n",
       "      <td>?</td>\n",
       "      <td>?</td>\n",
       "      <td>NaN</td>\n",
       "    </tr>\n",
       "    <tr>\n",
       "      <th>1988056</th>\n",
       "      <td>27/9/2010</td>\n",
       "      <td>07:40:00</td>\n",
       "      <td>?</td>\n",
       "      <td>?</td>\n",
       "      <td>?</td>\n",
       "      <td>?</td>\n",
       "      <td>?</td>\n",
       "      <td>?</td>\n",
       "      <td>NaN</td>\n",
       "    </tr>\n",
       "    <tr>\n",
       "      <th>1930737</th>\n",
       "      <td>18/8/2010</td>\n",
       "      <td>12:21:00</td>\n",
       "      <td>?</td>\n",
       "      <td>?</td>\n",
       "      <td>?</td>\n",
       "      <td>?</td>\n",
       "      <td>?</td>\n",
       "      <td>?</td>\n",
       "      <td>NaN</td>\n",
       "    </tr>\n",
       "  </tbody>\n",
       "</table>\n",
       "<p>650 rows × 9 columns</p>\n",
       "</div>"
      ],
      "text/plain": [
       "              Date      Time Global_active_power Global_reactive_power  \\\n",
       "1935230  21/8/2010  15:14:00                   ?                     ?   \n",
       "1985114  25/9/2010  06:38:00                   ?                     ?   \n",
       "1985922  25/9/2010  20:06:00                   ?                     ?   \n",
       "1930957  18/8/2010  16:01:00                   ?                     ?   \n",
       "1932039  19/8/2010  10:03:00                   ?                     ?   \n",
       "...            ...       ...                 ...                   ...   \n",
       "1617610  13/1/2010  01:34:00                   ?                     ?   \n",
       "192691   29/4/2007  12:55:00                   ?                     ?   \n",
       "192822   29/4/2007  15:06:00                   ?                     ?   \n",
       "1988056  27/9/2010  07:40:00                   ?                     ?   \n",
       "1930737  18/8/2010  12:21:00                   ?                     ?   \n",
       "\n",
       "        Voltage Global_intensity Sub_metering_1 Sub_metering_2  Sub_metering_3  \n",
       "1935230       ?                ?              ?              ?             NaN  \n",
       "1985114       ?                ?              ?              ?             NaN  \n",
       "1985922       ?                ?              ?              ?             NaN  \n",
       "1930957       ?                ?              ?              ?             NaN  \n",
       "1932039       ?                ?              ?              ?             NaN  \n",
       "...         ...              ...            ...            ...             ...  \n",
       "1617610       ?                ?              ?              ?             NaN  \n",
       "192691        ?                ?              ?              ?             NaN  \n",
       "192822        ?                ?              ?              ?             NaN  \n",
       "1988056       ?                ?              ?              ?             NaN  \n",
       "1930737       ?                ?              ?              ?             NaN  \n",
       "\n",
       "[650 rows x 9 columns]"
      ]
     },
     "execution_count": 104,
     "metadata": {},
     "output_type": "execute_result"
    }
   ],
   "source": [
    "df[df['Sub_metering_1'] == '?']"
   ]
  },
  {
   "cell_type": "code",
   "execution_count": 105,
   "id": "a466c71b",
   "metadata": {},
   "outputs": [],
   "source": [
    "#droping them all"
   ]
  },
  {
   "cell_type": "code",
   "execution_count": 106,
   "id": "86e56f25",
   "metadata": {},
   "outputs": [],
   "source": [
    "df.drop(df.loc[df['Sub_metering_1'] == '?'].index,inplace=True)"
   ]
  },
  {
   "cell_type": "code",
   "execution_count": 107,
   "id": "e5ad7bb0",
   "metadata": {
    "scrolled": true
   },
   "outputs": [
    {
     "data": {
      "text/plain": [
       "Date                     0\n",
       "Time                     0\n",
       "Global_active_power      0\n",
       "Global_reactive_power    0\n",
       "Voltage                  0\n",
       "Global_intensity         0\n",
       "Sub_metering_1           0\n",
       "Sub_metering_2           0\n",
       "Sub_metering_3           0\n",
       "dtype: int64"
      ]
     },
     "execution_count": 107,
     "metadata": {},
     "output_type": "execute_result"
    }
   ],
   "source": [
    "df.isnull().sum()"
   ]
  },
  {
   "cell_type": "code",
   "execution_count": 108,
   "id": "8177724d",
   "metadata": {},
   "outputs": [],
   "source": [
    "#No Null Values"
   ]
  },
  {
   "cell_type": "code",
   "execution_count": 109,
   "id": "c65a36d3",
   "metadata": {},
   "outputs": [
    {
     "name": "stdout",
     "output_type": "stream",
     "text": [
      "<class 'pandas.core.frame.DataFrame'>\n",
      "Int64Index: 49350 entries, 1816081 to 994191\n",
      "Data columns (total 9 columns):\n",
      " #   Column                 Non-Null Count  Dtype  \n",
      "---  ------                 --------------  -----  \n",
      " 0   Date                   49350 non-null  object \n",
      " 1   Time                   49350 non-null  object \n",
      " 2   Global_active_power    49350 non-null  object \n",
      " 3   Global_reactive_power  49350 non-null  object \n",
      " 4   Voltage                49350 non-null  object \n",
      " 5   Global_intensity       49350 non-null  object \n",
      " 6   Sub_metering_1         49350 non-null  object \n",
      " 7   Sub_metering_2         49350 non-null  object \n",
      " 8   Sub_metering_3         49350 non-null  float64\n",
      "dtypes: float64(1), object(8)\n",
      "memory usage: 3.8+ MB\n"
     ]
    }
   ],
   "source": [
    "df.info()"
   ]
  },
  {
   "cell_type": "code",
   "execution_count": 110,
   "id": "1280d9a3",
   "metadata": {},
   "outputs": [],
   "source": [
    "#Converting columnes types"
   ]
  },
  {
   "cell_type": "code",
   "execution_count": 111,
   "id": "751f2adc",
   "metadata": {},
   "outputs": [],
   "source": [
    "col_to_convert=[\"Global_active_power\",\"Global_reactive_power\",\"Voltage\",\"Global_intensity\",\"Sub_metering_1\",\"Sub_metering_2\"]"
   ]
  },
  {
   "cell_type": "code",
   "execution_count": 112,
   "id": "c5d76c53",
   "metadata": {},
   "outputs": [],
   "source": [
    "for col in col_to_convert:\n",
    "    df[col] = df[col].astype(float)"
   ]
  },
  {
   "cell_type": "code",
   "execution_count": 113,
   "id": "dea346d3",
   "metadata": {},
   "outputs": [],
   "source": [
    "#checking "
   ]
  },
  {
   "cell_type": "code",
   "execution_count": 114,
   "id": "5f5a609f",
   "metadata": {},
   "outputs": [
    {
     "data": {
      "text/plain": [
       "Date                      object\n",
       "Time                      object\n",
       "Global_active_power      float64\n",
       "Global_reactive_power    float64\n",
       "Voltage                  float64\n",
       "Global_intensity         float64\n",
       "Sub_metering_1           float64\n",
       "Sub_metering_2           float64\n",
       "Sub_metering_3           float64\n",
       "dtype: object"
      ]
     },
     "execution_count": 114,
     "metadata": {},
     "output_type": "execute_result"
    }
   ],
   "source": [
    "df.dtypes"
   ]
  },
  {
   "cell_type": "code",
   "execution_count": 115,
   "id": "9943a32e",
   "metadata": {},
   "outputs": [
    {
     "data": {
      "text/html": [
       "<div>\n",
       "<style scoped>\n",
       "    .dataframe tbody tr th:only-of-type {\n",
       "        vertical-align: middle;\n",
       "    }\n",
       "\n",
       "    .dataframe tbody tr th {\n",
       "        vertical-align: top;\n",
       "    }\n",
       "\n",
       "    .dataframe thead th {\n",
       "        text-align: right;\n",
       "    }\n",
       "</style>\n",
       "<table border=\"1\" class=\"dataframe\">\n",
       "  <thead>\n",
       "    <tr style=\"text-align: right;\">\n",
       "      <th></th>\n",
       "      <th>Date</th>\n",
       "      <th>Time</th>\n",
       "      <th>Global_active_power</th>\n",
       "      <th>Global_reactive_power</th>\n",
       "      <th>Voltage</th>\n",
       "      <th>Global_intensity</th>\n",
       "      <th>Sub_metering_1</th>\n",
       "      <th>Sub_metering_2</th>\n",
       "      <th>Sub_metering_3</th>\n",
       "    </tr>\n",
       "  </thead>\n",
       "  <tbody>\n",
       "    <tr>\n",
       "      <th>1816081</th>\n",
       "      <td>30/5/2010</td>\n",
       "      <td>21:25:00</td>\n",
       "      <td>2.182</td>\n",
       "      <td>0.174</td>\n",
       "      <td>239.58</td>\n",
       "      <td>9.0</td>\n",
       "      <td>0.0</td>\n",
       "      <td>0.0</td>\n",
       "      <td>19.0</td>\n",
       "    </tr>\n",
       "    <tr>\n",
       "      <th>10082</th>\n",
       "      <td>23/12/2006</td>\n",
       "      <td>17:26:00</td>\n",
       "      <td>4.848</td>\n",
       "      <td>0.140</td>\n",
       "      <td>232.45</td>\n",
       "      <td>20.8</td>\n",
       "      <td>1.0</td>\n",
       "      <td>1.0</td>\n",
       "      <td>16.0</td>\n",
       "    </tr>\n",
       "    <tr>\n",
       "      <th>576975</th>\n",
       "      <td>21/1/2008</td>\n",
       "      <td>09:39:00</td>\n",
       "      <td>1.546</td>\n",
       "      <td>0.084</td>\n",
       "      <td>239.36</td>\n",
       "      <td>6.4</td>\n",
       "      <td>0.0</td>\n",
       "      <td>1.0</td>\n",
       "      <td>18.0</td>\n",
       "    </tr>\n",
       "    <tr>\n",
       "      <th>636401</th>\n",
       "      <td>2/3/2008</td>\n",
       "      <td>16:05:00</td>\n",
       "      <td>2.408</td>\n",
       "      <td>0.000</td>\n",
       "      <td>238.25</td>\n",
       "      <td>10.4</td>\n",
       "      <td>0.0</td>\n",
       "      <td>29.0</td>\n",
       "      <td>0.0</td>\n",
       "    </tr>\n",
       "    <tr>\n",
       "      <th>616359</th>\n",
       "      <td>17/2/2008</td>\n",
       "      <td>18:03:00</td>\n",
       "      <td>1.428</td>\n",
       "      <td>0.000</td>\n",
       "      <td>235.02</td>\n",
       "      <td>6.2</td>\n",
       "      <td>0.0</td>\n",
       "      <td>0.0</td>\n",
       "      <td>0.0</td>\n",
       "    </tr>\n",
       "  </tbody>\n",
       "</table>\n",
       "</div>"
      ],
      "text/plain": [
       "               Date      Time  Global_active_power  Global_reactive_power  \\\n",
       "1816081   30/5/2010  21:25:00                2.182                  0.174   \n",
       "10082    23/12/2006  17:26:00                4.848                  0.140   \n",
       "576975    21/1/2008  09:39:00                1.546                  0.084   \n",
       "636401     2/3/2008  16:05:00                2.408                  0.000   \n",
       "616359    17/2/2008  18:03:00                1.428                  0.000   \n",
       "\n",
       "         Voltage  Global_intensity  Sub_metering_1  Sub_metering_2  \\\n",
       "1816081   239.58               9.0             0.0             0.0   \n",
       "10082     232.45              20.8             1.0             1.0   \n",
       "576975    239.36               6.4             0.0             1.0   \n",
       "636401    238.25              10.4             0.0            29.0   \n",
       "616359    235.02               6.2             0.0             0.0   \n",
       "\n",
       "         Sub_metering_3  \n",
       "1816081            19.0  \n",
       "10082              16.0  \n",
       "576975             18.0  \n",
       "636401              0.0  \n",
       "616359              0.0  "
      ]
     },
     "execution_count": 115,
     "metadata": {},
     "output_type": "execute_result"
    }
   ],
   "source": [
    "df.head()"
   ]
  },
  {
   "cell_type": "code",
   "execution_count": 116,
   "id": "01f53151",
   "metadata": {},
   "outputs": [
    {
     "data": {
      "text/plain": [
       "1816081    21:25:00\n",
       "10082      17:26:00\n",
       "576975     09:39:00\n",
       "636401     16:05:00\n",
       "616359     18:03:00\n",
       "             ...   \n",
       "761889     19:33:00\n",
       "1298842    16:46:00\n",
       "320784     11:48:00\n",
       "1350502    13:46:00\n",
       "994191     03:15:00\n",
       "Name: Time, Length: 49350, dtype: object"
      ]
     },
     "execution_count": 116,
     "metadata": {},
     "output_type": "execute_result"
    }
   ],
   "source": [
    "df['Date']=pd.to_datetime(df['Date'])\n",
    "df['Time']"
   ]
  },
  {
   "cell_type": "code",
   "execution_count": 117,
   "id": "902fc4b9",
   "metadata": {
    "scrolled": true
   },
   "outputs": [
    {
     "data": {
      "text/plain": [
       "Date                     datetime64[ns]\n",
       "Time                             object\n",
       "Global_active_power             float64\n",
       "Global_reactive_power           float64\n",
       "Voltage                         float64\n",
       "Global_intensity                float64\n",
       "Sub_metering_1                  float64\n",
       "Sub_metering_2                  float64\n",
       "Sub_metering_3                  float64\n",
       "dtype: object"
      ]
     },
     "execution_count": 117,
     "metadata": {},
     "output_type": "execute_result"
    }
   ],
   "source": [
    "df.dtypes"
   ]
  },
  {
   "cell_type": "code",
   "execution_count": 118,
   "id": "83ce703f",
   "metadata": {},
   "outputs": [],
   "source": [
    "#Converting is done"
   ]
  },
  {
   "cell_type": "code",
   "execution_count": 119,
   "id": "19f5d5ed",
   "metadata": {},
   "outputs": [],
   "source": [
    "#sorting the data by date"
   ]
  },
  {
   "cell_type": "code",
   "execution_count": 120,
   "id": "d903335e",
   "metadata": {},
   "outputs": [],
   "source": [
    "df.sort_values(by='Date',inplace=True)"
   ]
  },
  {
   "cell_type": "code",
   "execution_count": 121,
   "id": "b24b9ec0",
   "metadata": {},
   "outputs": [
    {
     "data": {
      "text/html": [
       "<div>\n",
       "<style scoped>\n",
       "    .dataframe tbody tr th:only-of-type {\n",
       "        vertical-align: middle;\n",
       "    }\n",
       "\n",
       "    .dataframe tbody tr th {\n",
       "        vertical-align: top;\n",
       "    }\n",
       "\n",
       "    .dataframe thead th {\n",
       "        text-align: right;\n",
       "    }\n",
       "</style>\n",
       "<table border=\"1\" class=\"dataframe\">\n",
       "  <thead>\n",
       "    <tr style=\"text-align: right;\">\n",
       "      <th></th>\n",
       "      <th>Date</th>\n",
       "      <th>Time</th>\n",
       "      <th>Global_active_power</th>\n",
       "      <th>Global_reactive_power</th>\n",
       "      <th>Voltage</th>\n",
       "      <th>Global_intensity</th>\n",
       "      <th>Sub_metering_1</th>\n",
       "      <th>Sub_metering_2</th>\n",
       "      <th>Sub_metering_3</th>\n",
       "    </tr>\n",
       "  </thead>\n",
       "  <tbody>\n",
       "    <tr>\n",
       "      <th>323</th>\n",
       "      <td>2006-12-16</td>\n",
       "      <td>22:47:00</td>\n",
       "      <td>0.284</td>\n",
       "      <td>0.000</td>\n",
       "      <td>242.04</td>\n",
       "      <td>1.2</td>\n",
       "      <td>0.0</td>\n",
       "      <td>0.0</td>\n",
       "      <td>0.0</td>\n",
       "    </tr>\n",
       "    <tr>\n",
       "      <th>5</th>\n",
       "      <td>2006-12-16</td>\n",
       "      <td>17:29:00</td>\n",
       "      <td>3.520</td>\n",
       "      <td>0.522</td>\n",
       "      <td>235.02</td>\n",
       "      <td>15.0</td>\n",
       "      <td>0.0</td>\n",
       "      <td>2.0</td>\n",
       "      <td>17.0</td>\n",
       "    </tr>\n",
       "    <tr>\n",
       "      <th>269</th>\n",
       "      <td>2006-12-16</td>\n",
       "      <td>21:53:00</td>\n",
       "      <td>3.480</td>\n",
       "      <td>0.170</td>\n",
       "      <td>236.46</td>\n",
       "      <td>14.6</td>\n",
       "      <td>0.0</td>\n",
       "      <td>2.0</td>\n",
       "      <td>17.0</td>\n",
       "    </tr>\n",
       "    <tr>\n",
       "      <th>37</th>\n",
       "      <td>2006-12-16</td>\n",
       "      <td>18:01:00</td>\n",
       "      <td>2.624</td>\n",
       "      <td>0.144</td>\n",
       "      <td>238.20</td>\n",
       "      <td>11.0</td>\n",
       "      <td>0.0</td>\n",
       "      <td>0.0</td>\n",
       "      <td>17.0</td>\n",
       "    </tr>\n",
       "    <tr>\n",
       "      <th>95</th>\n",
       "      <td>2006-12-16</td>\n",
       "      <td>18:59:00</td>\n",
       "      <td>4.224</td>\n",
       "      <td>0.090</td>\n",
       "      <td>231.96</td>\n",
       "      <td>18.2</td>\n",
       "      <td>0.0</td>\n",
       "      <td>1.0</td>\n",
       "      <td>16.0</td>\n",
       "    </tr>\n",
       "  </tbody>\n",
       "</table>\n",
       "</div>"
      ],
      "text/plain": [
       "          Date      Time  Global_active_power  Global_reactive_power  Voltage  \\\n",
       "323 2006-12-16  22:47:00                0.284                  0.000   242.04   \n",
       "5   2006-12-16  17:29:00                3.520                  0.522   235.02   \n",
       "269 2006-12-16  21:53:00                3.480                  0.170   236.46   \n",
       "37  2006-12-16  18:01:00                2.624                  0.144   238.20   \n",
       "95  2006-12-16  18:59:00                4.224                  0.090   231.96   \n",
       "\n",
       "     Global_intensity  Sub_metering_1  Sub_metering_2  Sub_metering_3  \n",
       "323               1.2             0.0             0.0             0.0  \n",
       "5                15.0             0.0             2.0            17.0  \n",
       "269              14.6             0.0             2.0            17.0  \n",
       "37               11.0             0.0             0.0            17.0  \n",
       "95               18.2             0.0             1.0            16.0  "
      ]
     },
     "execution_count": 121,
     "metadata": {},
     "output_type": "execute_result"
    }
   ],
   "source": [
    "df.head()"
   ]
  },
  {
   "cell_type": "code",
   "execution_count": 122,
   "id": "e77cb780",
   "metadata": {},
   "outputs": [],
   "source": [
    "#Adding Sub_metering_1\tSub_metering_2\tSub_metering_3"
   ]
  },
  {
   "cell_type": "code",
   "execution_count": 123,
   "id": "b9988e85",
   "metadata": {},
   "outputs": [],
   "source": [
    "df['Total_bil'] = df[\"Sub_metering_1\"] + df['Sub_metering_2'] + df['Sub_metering_3']"
   ]
  },
  {
   "cell_type": "code",
   "execution_count": 124,
   "id": "d051d631",
   "metadata": {},
   "outputs": [
    {
     "data": {
      "text/html": [
       "<div>\n",
       "<style scoped>\n",
       "    .dataframe tbody tr th:only-of-type {\n",
       "        vertical-align: middle;\n",
       "    }\n",
       "\n",
       "    .dataframe tbody tr th {\n",
       "        vertical-align: top;\n",
       "    }\n",
       "\n",
       "    .dataframe thead th {\n",
       "        text-align: right;\n",
       "    }\n",
       "</style>\n",
       "<table border=\"1\" class=\"dataframe\">\n",
       "  <thead>\n",
       "    <tr style=\"text-align: right;\">\n",
       "      <th></th>\n",
       "      <th>Date</th>\n",
       "      <th>Time</th>\n",
       "      <th>Global_active_power</th>\n",
       "      <th>Global_reactive_power</th>\n",
       "      <th>Voltage</th>\n",
       "      <th>Global_intensity</th>\n",
       "      <th>Sub_metering_1</th>\n",
       "      <th>Sub_metering_2</th>\n",
       "      <th>Sub_metering_3</th>\n",
       "      <th>Total_bil</th>\n",
       "    </tr>\n",
       "  </thead>\n",
       "  <tbody>\n",
       "    <tr>\n",
       "      <th>323</th>\n",
       "      <td>2006-12-16</td>\n",
       "      <td>22:47:00</td>\n",
       "      <td>0.284</td>\n",
       "      <td>0.000</td>\n",
       "      <td>242.04</td>\n",
       "      <td>1.2</td>\n",
       "      <td>0.0</td>\n",
       "      <td>0.0</td>\n",
       "      <td>0.0</td>\n",
       "      <td>0.0</td>\n",
       "    </tr>\n",
       "    <tr>\n",
       "      <th>5</th>\n",
       "      <td>2006-12-16</td>\n",
       "      <td>17:29:00</td>\n",
       "      <td>3.520</td>\n",
       "      <td>0.522</td>\n",
       "      <td>235.02</td>\n",
       "      <td>15.0</td>\n",
       "      <td>0.0</td>\n",
       "      <td>2.0</td>\n",
       "      <td>17.0</td>\n",
       "      <td>19.0</td>\n",
       "    </tr>\n",
       "    <tr>\n",
       "      <th>269</th>\n",
       "      <td>2006-12-16</td>\n",
       "      <td>21:53:00</td>\n",
       "      <td>3.480</td>\n",
       "      <td>0.170</td>\n",
       "      <td>236.46</td>\n",
       "      <td>14.6</td>\n",
       "      <td>0.0</td>\n",
       "      <td>2.0</td>\n",
       "      <td>17.0</td>\n",
       "      <td>19.0</td>\n",
       "    </tr>\n",
       "    <tr>\n",
       "      <th>37</th>\n",
       "      <td>2006-12-16</td>\n",
       "      <td>18:01:00</td>\n",
       "      <td>2.624</td>\n",
       "      <td>0.144</td>\n",
       "      <td>238.20</td>\n",
       "      <td>11.0</td>\n",
       "      <td>0.0</td>\n",
       "      <td>0.0</td>\n",
       "      <td>17.0</td>\n",
       "      <td>17.0</td>\n",
       "    </tr>\n",
       "    <tr>\n",
       "      <th>95</th>\n",
       "      <td>2006-12-16</td>\n",
       "      <td>18:59:00</td>\n",
       "      <td>4.224</td>\n",
       "      <td>0.090</td>\n",
       "      <td>231.96</td>\n",
       "      <td>18.2</td>\n",
       "      <td>0.0</td>\n",
       "      <td>1.0</td>\n",
       "      <td>16.0</td>\n",
       "      <td>17.0</td>\n",
       "    </tr>\n",
       "  </tbody>\n",
       "</table>\n",
       "</div>"
      ],
      "text/plain": [
       "          Date      Time  Global_active_power  Global_reactive_power  Voltage  \\\n",
       "323 2006-12-16  22:47:00                0.284                  0.000   242.04   \n",
       "5   2006-12-16  17:29:00                3.520                  0.522   235.02   \n",
       "269 2006-12-16  21:53:00                3.480                  0.170   236.46   \n",
       "37  2006-12-16  18:01:00                2.624                  0.144   238.20   \n",
       "95  2006-12-16  18:59:00                4.224                  0.090   231.96   \n",
       "\n",
       "     Global_intensity  Sub_metering_1  Sub_metering_2  Sub_metering_3  \\\n",
       "323               1.2             0.0             0.0             0.0   \n",
       "5                15.0             0.0             2.0            17.0   \n",
       "269              14.6             0.0             2.0            17.0   \n",
       "37               11.0             0.0             0.0            17.0   \n",
       "95               18.2             0.0             1.0            16.0   \n",
       "\n",
       "     Total_bil  \n",
       "323        0.0  \n",
       "5         19.0  \n",
       "269       19.0  \n",
       "37        17.0  \n",
       "95        17.0  "
      ]
     },
     "execution_count": 124,
     "metadata": {},
     "output_type": "execute_result"
    }
   ],
   "source": [
    "df.head()"
   ]
  },
  {
   "cell_type": "code",
   "execution_count": 127,
   "id": "9194ba13",
   "metadata": {},
   "outputs": [],
   "source": [
    "import matplotlib.pyplot as plt\n",
    "import seaborn as  sns "
   ]
  },
  {
   "cell_type": "code",
   "execution_count": 137,
   "id": "277e70c4",
   "metadata": {},
   "outputs": [
    {
     "data": {
      "image/png": "[encoded data removed]",
      "text/plain": [
       "<Figure size 432x288 with 1 Axes>"
      ]
     },
     "metadata": {},
     "output_type": "display_data"
    }
   ],
   "source": [
    "plt.pie(x=[df['Sub_metering_1'].sum(),df['Sub_metering_2'].sum(),df['Sub_metering_3'].sum()],\n",
    "        labels=['Sub_metering_1','Sub_metering_2','Sub_metering_3'], \n",
    "        colors=sns.color_palette('bright'),\n",
    "        autopct='%.0f%%')\n",
    "plt.show()"
   ]
  },
  {
   "cell_type": "code",
   "execution_count": 138,
   "id": "1bc09076",
   "metadata": {},
   "outputs": [],
   "source": [
    "# 73% of total bill come from Sub_metering_3 which corresponds to an electric water-heater and an air-conditioner."
   ]
  },
  {
   "cell_type": "code",
   "execution_count": 147,
   "id": "edfde230",
   "metadata": {
    "scrolled": true
   },
   "outputs": [
    {
     "data": {
      "image/png": "[encoded data removed]",
      "text/plain": [
       "<Figure size 432x288 with 1 Axes>"
      ]
     },
     "metadata": {
      "needs_background": "light"
     },
     "output_type": "display_data"
    }
   ],
   "source": [
    "plt.hist(df[\"Global_active_power\"],color='r')\n",
    "plt.xlabel(\"Global_active_power\")\n",
    "plt.ylabel('frequency')\n",
    "plt.show()"
   ]
  },
  {
   "cell_type": "code",
   "execution_count": 163,
   "id": "14ecab6a",
   "metadata": {},
   "outputs": [],
   "source": [
    "#geting Dayname from Date column"
   ]
  },
  {
   "cell_type": "code",
   "execution_count": 160,
   "id": "11757fbe",
   "metadata": {},
   "outputs": [],
   "source": [
    "df['Dayname']=df[\"Date\"].dt.day_name()"
   ]
  },
  {
   "cell_type": "code",
   "execution_count": 170,
   "id": "92622a61",
   "metadata": {},
   "outputs": [
    {
     "data": {
      "image/png": "[encoded data removed]",
      "text/plain": [
       "<Figure size 720x504 with 1 Axes>"
      ]
     },
     "metadata": {
      "needs_background": "light"
     },
     "output_type": "display_data"
    }
   ],
   "source": [
    "plt.figure(figsize=(10,7))\n",
    "sns.pointplot(x='Dayname',y='Global_active_power',data=df)\n",
    "plt.show()"
   ]
  },
  {
   "cell_type": "code",
   "execution_count": 172,
   "id": "a61ebdba",
   "metadata": {},
   "outputs": [],
   "source": [
    "#high global_activity_power in saturdays and sundays as it is a weekend"
   ]
  },
  {
   "cell_type": "code",
   "execution_count": 187,
   "id": "e331bf40",
   "metadata": {},
   "outputs": [
    {
     "data": {
      "image/png": "[encoded data removed]",
      "text/plain": [
       "<Figure size 720x504 with 1 Axes>"
      ]
     },
     "metadata": {
      "needs_background": "light"
     },
     "output_type": "display_data"
    }
   ],
   "source": [
    "plt.figure(figsize=(10,7))\n",
    "\n",
    "sns.pointplot(x='Dayname',y='Sub_metering_1',color='r',data=df)\n",
    "\n",
    "sns.pointplot(x='Dayname',y='Sub_metering_2',colour='yellow',data=df)\n",
    "\n",
    "sns.pointplot(x='Dayname',y='Sub_metering_3',data=df)\n",
    "plt.show()\n"
   ]
  },
  {
   "cell_type": "code",
   "execution_count": 192,
   "id": "cd64c181",
   "metadata": {},
   "outputs": [
    {
     "data": {
      "text/html": [
       "<div>\n",
       "<style scoped>\n",
       "    .dataframe tbody tr th:only-of-type {\n",
       "        vertical-align: middle;\n",
       "    }\n",
       "\n",
       "    .dataframe tbody tr th {\n",
       "        vertical-align: top;\n",
       "    }\n",
       "\n",
       "    .dataframe thead th {\n",
       "        text-align: right;\n",
       "    }\n",
       "</style>\n",
       "<table border=\"1\" class=\"dataframe\">\n",
       "  <thead>\n",
       "    <tr style=\"text-align: right;\">\n",
       "      <th></th>\n",
       "      <th>Date</th>\n",
       "      <th>Time</th>\n",
       "      <th>Global_active_power</th>\n",
       "      <th>Global_reactive_power</th>\n",
       "      <th>Voltage</th>\n",
       "      <th>Global_intensity</th>\n",
       "      <th>Sub_metering_1</th>\n",
       "      <th>Sub_metering_2</th>\n",
       "      <th>Sub_metering_3</th>\n",
       "      <th>Total_bil</th>\n",
       "      <th>Dayname</th>\n",
       "    </tr>\n",
       "  </thead>\n",
       "  <tbody>\n",
       "    <tr>\n",
       "      <th>323</th>\n",
       "      <td>2006-12-16</td>\n",
       "      <td>22:47:00</td>\n",
       "      <td>0.284</td>\n",
       "      <td>0.000</td>\n",
       "      <td>242.04</td>\n",
       "      <td>1.2</td>\n",
       "      <td>0.0</td>\n",
       "      <td>0.0</td>\n",
       "      <td>0.0</td>\n",
       "      <td>0.0</td>\n",
       "      <td>Saturday</td>\n",
       "    </tr>\n",
       "    <tr>\n",
       "      <th>5</th>\n",
       "      <td>2006-12-16</td>\n",
       "      <td>17:29:00</td>\n",
       "      <td>3.520</td>\n",
       "      <td>0.522</td>\n",
       "      <td>235.02</td>\n",
       "      <td>15.0</td>\n",
       "      <td>0.0</td>\n",
       "      <td>2.0</td>\n",
       "      <td>17.0</td>\n",
       "      <td>19.0</td>\n",
       "      <td>Saturday</td>\n",
       "    </tr>\n",
       "    <tr>\n",
       "      <th>269</th>\n",
       "      <td>2006-12-16</td>\n",
       "      <td>21:53:00</td>\n",
       "      <td>3.480</td>\n",
       "      <td>0.170</td>\n",
       "      <td>236.46</td>\n",
       "      <td>14.6</td>\n",
       "      <td>0.0</td>\n",
       "      <td>2.0</td>\n",
       "      <td>17.0</td>\n",
       "      <td>19.0</td>\n",
       "      <td>Saturday</td>\n",
       "    </tr>\n",
       "    <tr>\n",
       "      <th>37</th>\n",
       "      <td>2006-12-16</td>\n",
       "      <td>18:01:00</td>\n",
       "      <td>2.624</td>\n",
       "      <td>0.144</td>\n",
       "      <td>238.20</td>\n",
       "      <td>11.0</td>\n",
       "      <td>0.0</td>\n",
       "      <td>0.0</td>\n",
       "      <td>17.0</td>\n",
       "      <td>17.0</td>\n",
       "      <td>Saturday</td>\n",
       "    </tr>\n",
       "    <tr>\n",
       "      <th>95</th>\n",
       "      <td>2006-12-16</td>\n",
       "      <td>18:59:00</td>\n",
       "      <td>4.224</td>\n",
       "      <td>0.090</td>\n",
       "      <td>231.96</td>\n",
       "      <td>18.2</td>\n",
       "      <td>0.0</td>\n",
       "      <td>1.0</td>\n",
       "      <td>16.0</td>\n",
       "      <td>17.0</td>\n",
       "      <td>Saturday</td>\n",
       "    </tr>\n",
       "  </tbody>\n",
       "</table>\n",
       "</div>"
      ],
      "text/plain": [
       "          Date      Time  Global_active_power  Global_reactive_power  Voltage  \\\n",
       "323 2006-12-16  22:47:00                0.284                  0.000   242.04   \n",
       "5   2006-12-16  17:29:00                3.520                  0.522   235.02   \n",
       "269 2006-12-16  21:53:00                3.480                  0.170   236.46   \n",
       "37  2006-12-16  18:01:00                2.624                  0.144   238.20   \n",
       "95  2006-12-16  18:59:00                4.224                  0.090   231.96   \n",
       "\n",
       "     Global_intensity  Sub_metering_1  Sub_metering_2  Sub_metering_3  \\\n",
       "323               1.2             0.0             0.0             0.0   \n",
       "5                15.0             0.0             2.0            17.0   \n",
       "269              14.6             0.0             2.0            17.0   \n",
       "37               11.0             0.0             0.0            17.0   \n",
       "95               18.2             0.0             1.0            16.0   \n",
       "\n",
       "     Total_bil   Dayname  \n",
       "323        0.0  Saturday  \n",
       "5         19.0  Saturday  \n",
       "269       19.0  Saturday  \n",
       "37        17.0  Saturday  \n",
       "95        17.0  Saturday  "
      ]
     },
     "execution_count": 192,
     "metadata": {},
     "output_type": "execute_result"
    }
   ],
   "source": [
    "df.head()"
   ]
  },
  {
   "cell_type": "markdown",
   "id": "31fc5c3f",
   "metadata": {},
   "source": [
    "**Model Building**"
   ]
  },
  {
   "cell_type": "code",
   "execution_count": 193,
   "id": "ea66c045",
   "metadata": {},
   "outputs": [],
   "source": [
    "df.drop(['Date','Time','Dayname','Sub_metering_1','Sub_metering_2','Sub_metering_3'],axis=1,inplace=True)"
   ]
  },
  {
   "cell_type": "code",
   "execution_count": 194,
   "id": "20112566",
   "metadata": {},
   "outputs": [
    {
     "data": {
      "text/html": [
       "<div>\n",
       "<style scoped>\n",
       "    .dataframe tbody tr th:only-of-type {\n",
       "        vertical-align: middle;\n",
       "    }\n",
       "\n",
       "    .dataframe tbody tr th {\n",
       "        vertical-align: top;\n",
       "    }\n",
       "\n",
       "    .dataframe thead th {\n",
       "        text-align: right;\n",
       "    }\n",
       "</style>\n",
       "<table border=\"1\" class=\"dataframe\">\n",
       "  <thead>\n",
       "    <tr style=\"text-align: right;\">\n",
       "      <th></th>\n",
       "      <th>Global_active_power</th>\n",
       "      <th>Global_reactive_power</th>\n",
       "      <th>Voltage</th>\n",
       "      <th>Global_intensity</th>\n",
       "      <th>Total_bil</th>\n",
       "    </tr>\n",
       "  </thead>\n",
       "  <tbody>\n",
       "    <tr>\n",
       "      <th>323</th>\n",
       "      <td>0.284</td>\n",
       "      <td>0.000</td>\n",
       "      <td>242.04</td>\n",
       "      <td>1.2</td>\n",
       "      <td>0.0</td>\n",
       "    </tr>\n",
       "    <tr>\n",
       "      <th>5</th>\n",
       "      <td>3.520</td>\n",
       "      <td>0.522</td>\n",
       "      <td>235.02</td>\n",
       "      <td>15.0</td>\n",
       "      <td>19.0</td>\n",
       "    </tr>\n",
       "    <tr>\n",
       "      <th>269</th>\n",
       "      <td>3.480</td>\n",
       "      <td>0.170</td>\n",
       "      <td>236.46</td>\n",
       "      <td>14.6</td>\n",
       "      <td>19.0</td>\n",
       "    </tr>\n",
       "    <tr>\n",
       "      <th>37</th>\n",
       "      <td>2.624</td>\n",
       "      <td>0.144</td>\n",
       "      <td>238.20</td>\n",
       "      <td>11.0</td>\n",
       "      <td>17.0</td>\n",
       "    </tr>\n",
       "    <tr>\n",
       "      <th>95</th>\n",
       "      <td>4.224</td>\n",
       "      <td>0.090</td>\n",
       "      <td>231.96</td>\n",
       "      <td>18.2</td>\n",
       "      <td>17.0</td>\n",
       "    </tr>\n",
       "  </tbody>\n",
       "</table>\n",
       "</div>"
      ],
      "text/plain": [
       "     Global_active_power  Global_reactive_power  Voltage  Global_intensity  \\\n",
       "323                0.284                  0.000   242.04               1.2   \n",
       "5                  3.520                  0.522   235.02              15.0   \n",
       "269                3.480                  0.170   236.46              14.6   \n",
       "37                 2.624                  0.144   238.20              11.0   \n",
       "95                 4.224                  0.090   231.96              18.2   \n",
       "\n",
       "     Total_bil  \n",
       "323        0.0  \n",
       "5         19.0  \n",
       "269       19.0  \n",
       "37        17.0  \n",
       "95        17.0  "
      ]
     },
     "execution_count": 194,
     "metadata": {},
     "output_type": "execute_result"
    }
   ],
   "source": [
    "df.head()"
   ]
  },
  {
   "cell_type": "code",
   "execution_count": 196,
   "id": "3e2d3a32",
   "metadata": {},
   "outputs": [],
   "source": [
    "X = df.drop('Total_bil',axis=1)\n",
    "y=df['Total_bil']"
   ]
  },
  {
   "cell_type": "code",
   "execution_count": 197,
   "id": "314f6d87",
   "metadata": {},
   "outputs": [],
   "source": [
    "#Spleting the data "
   ]
  },
  {
   "cell_type": "code",
   "execution_count": 198,
   "id": "91f2e798",
   "metadata": {},
   "outputs": [],
   "source": [
    "from sklearn.model_selection import train_test_split"
   ]
  },
  {
   "cell_type": "code",
   "execution_count": 202,
   "id": "b96d9de5",
   "metadata": {},
   "outputs": [],
   "source": [
    "X_train,x_test,y_train,y_test = train_test_split(X,y,test_size=0.33,random_state=42)"
   ]
  },
  {
   "cell_type": "code",
   "execution_count": 203,
   "id": "4469f482",
   "metadata": {},
   "outputs": [],
   "source": [
    "from sklearn.preprocessing import StandardScaler"
   ]
  },
  {
   "cell_type": "code",
   "execution_count": 204,
   "id": "4b4c6b66",
   "metadata": {},
   "outputs": [
    {
     "data": {
      "text/plain": [
       "StandardScaler()"
      ]
     },
     "execution_count": 204,
     "metadata": {},
     "output_type": "execute_result"
    }
   ],
   "source": [
    "scaler = StandardScaler()\n",
    "scaler"
   ]
  },
  {
   "cell_type": "code",
   "execution_count": 205,
   "id": "3b512550",
   "metadata": {},
   "outputs": [],
   "source": [
    "X_train = scaler.fit_transform(X_train)\n",
    "x_test = scaler.transform(x_test)"
   ]
  },
  {
   "cell_type": "markdown",
   "id": "c643cb0a",
   "metadata": {},
   "source": [
    "**LinearRegression**"
   ]
  },
  {
   "cell_type": "code",
   "execution_count": 206,
   "id": "14b2b31d",
   "metadata": {},
   "outputs": [],
   "source": [
    "from sklearn.linear_model import LinearRegression"
   ]
  },
  {
   "cell_type": "code",
   "execution_count": 207,
   "id": "ab8cf6a4",
   "metadata": {},
   "outputs": [
    {
     "data": {
      "text/plain": [
       "LinearRegression()"
      ]
     },
     "execution_count": 207,
     "metadata": {},
     "output_type": "execute_result"
    }
   ],
   "source": [
    "model = LinearRegression()\n",
    "model"
   ]
  },
  {
   "cell_type": "code",
   "execution_count": 208,
   "id": "f8138f59",
   "metadata": {},
   "outputs": [
    {
     "data": {
      "text/plain": [
       "LinearRegression()"
      ]
     },
     "execution_count": 208,
     "metadata": {},
     "output_type": "execute_result"
    }
   ],
   "source": [
    "model.fit(X_train,y_train)"
   ]
  },
  {
   "cell_type": "code",
   "execution_count": 219,
   "id": "41a41f21",
   "metadata": {},
   "outputs": [
    {
     "name": "stdout",
     "output_type": "stream",
     "text": [
      "The training score LinearRegression is: 71.62191038992474\n"
     ]
    }
   ],
   "source": [
    "print(f\"The training score LinearRegression is: {model.score(X_train,y_train) * 100}\")\n"
   ]
  },
  {
   "cell_type": "code",
   "execution_count": 220,
   "id": "caf98d31",
   "metadata": {},
   "outputs": [],
   "source": [
    "y_pre = model.predict(x_test)"
   ]
  },
  {
   "cell_type": "code",
   "execution_count": 221,
   "id": "82d1a3f6",
   "metadata": {},
   "outputs": [],
   "source": [
    "from sklearn.metrics import r2_score"
   ]
  },
  {
   "cell_type": "code",
   "execution_count": 222,
   "id": "1effc0e7",
   "metadata": {},
   "outputs": [
    {
     "name": "stdout",
     "output_type": "stream",
     "text": [
      "The testing score of LinearRegression is: 70.33965981871084 \n"
     ]
    }
   ],
   "source": [
    "print(f'The testing score of LinearRegression is: {r2_score(y_test,y_pre) * 100} ')"
   ]
  },
  {
   "cell_type": "markdown",
   "id": "9f0cb9cd",
   "metadata": {},
   "source": [
    "**RidgeRegression**"
   ]
  },
  {
   "cell_type": "code",
   "execution_count": 226,
   "id": "02f7328d",
   "metadata": {},
   "outputs": [],
   "source": [
    "from sklearn.linear_model import Ridge"
   ]
  },
  {
   "cell_type": "code",
   "execution_count": 227,
   "id": "7f7d3d34",
   "metadata": {},
   "outputs": [
    {
     "data": {
      "text/plain": [
       "Ridge()"
      ]
     },
     "execution_count": 227,
     "metadata": {},
     "output_type": "execute_result"
    }
   ],
   "source": [
    "model_1 = Ridge()\n",
    "model_1"
   ]
  },
  {
   "cell_type": "code",
   "execution_count": 228,
   "id": "0b1ba87b",
   "metadata": {},
   "outputs": [
    {
     "data": {
      "text/plain": [
       "Ridge()"
      ]
     },
     "execution_count": 228,
     "metadata": {},
     "output_type": "execute_result"
    }
   ],
   "source": [
    "model_1.fit(X_train,y_train)"
   ]
  },
  {
   "cell_type": "code",
   "execution_count": 229,
   "id": "8762d1ad",
   "metadata": {},
   "outputs": [
    {
     "name": "stdout",
     "output_type": "stream",
     "text": [
      "The training score RidgeRegression is: 71.62164779318596\n"
     ]
    }
   ],
   "source": [
    "print(f\"The training score RidgeRegression is: {model_1.score(X_train,y_train) * 100}\")"
   ]
  },
  {
   "cell_type": "code",
   "execution_count": 230,
   "id": "b88091b1",
   "metadata": {},
   "outputs": [],
   "source": [
    "y_pre = model_1.predict(x_test)"
   ]
  },
  {
   "cell_type": "code",
   "execution_count": 231,
   "id": "2eb69875",
   "metadata": {},
   "outputs": [
    {
     "name": "stdout",
     "output_type": "stream",
     "text": [
      "The testing score of RidgeRegression is: 70.33683548756125 \n"
     ]
    }
   ],
   "source": [
    "print(f'The testing score of RidgeRegression is: {r2_score(y_test,y_pre) * 100} ')"
   ]
  },
  {
   "cell_type": "markdown",
   "id": "e3b74088",
   "metadata": {},
   "source": [
    "**LassoRegression**"
   ]
  },
  {
   "cell_type": "code",
   "execution_count": 232,
   "id": "53a16393",
   "metadata": {},
   "outputs": [],
   "source": [
    "from sklearn.linear_model import Lasso"
   ]
  },
  {
   "cell_type": "code",
   "execution_count": 233,
   "id": "1c4c7c82",
   "metadata": {},
   "outputs": [
    {
     "data": {
      "text/plain": [
       "Lasso()"
      ]
     },
     "execution_count": 233,
     "metadata": {},
     "output_type": "execute_result"
    }
   ],
   "source": [
    "model_2 = Lasso()\n",
    "model_2"
   ]
  },
  {
   "cell_type": "code",
   "execution_count": 234,
   "id": "8d648da3",
   "metadata": {},
   "outputs": [
    {
     "data": {
      "text/plain": [
       "Lasso()"
      ]
     },
     "execution_count": 234,
     "metadata": {},
     "output_type": "execute_result"
    }
   ],
   "source": [
    "model_2.fit(X_train,y_train)"
   ]
  },
  {
   "cell_type": "code",
   "execution_count": 235,
   "id": "ff5096b9",
   "metadata": {},
   "outputs": [
    {
     "name": "stdout",
     "output_type": "stream",
     "text": [
      "The training score RidgeRegression is: 70.86827538737074\n"
     ]
    }
   ],
   "source": [
    "print(f\"The training score RidgeRegression is: {model_2.score(X_train,y_train) * 100}\")"
   ]
  },
  {
   "cell_type": "code",
   "execution_count": 236,
   "id": "03de5c7f",
   "metadata": {},
   "outputs": [],
   "source": [
    "y_pre = model_2.predict(x_test)"
   ]
  },
  {
   "cell_type": "code",
   "execution_count": 237,
   "id": "46d61752",
   "metadata": {},
   "outputs": [
    {
     "name": "stdout",
     "output_type": "stream",
     "text": [
      "The testing score of RidgeRegression is: 69.7327688794338 \n"
     ]
    }
   ],
   "source": [
    "print(f'The testing score of RidgeRegression is: {r2_score(y_test,y_pre) * 100} ')"
   ]
  },
  {
   "cell_type": "code",
   "execution_count": 238,
   "id": "5e2198af",
   "metadata": {},
   "outputs": [],
   "source": [
    "# acuracy got deacreased "
   ]
  },
  {
   "cell_type": "markdown",
   "id": "a0a1c86e",
   "metadata": {},
   "source": [
    "**Support Verctor Regressior**"
   ]
  },
  {
   "cell_type": "code",
   "execution_count": 239,
   "id": "dc80da96",
   "metadata": {},
   "outputs": [],
   "source": [
    "from sklearn.svm import SVR"
   ]
  },
  {
   "cell_type": "code",
   "execution_count": 240,
   "id": "93abc941",
   "metadata": {},
   "outputs": [
    {
     "data": {
      "text/plain": [
       "SVR()"
      ]
     },
     "execution_count": 240,
     "metadata": {},
     "output_type": "execute_result"
    }
   ],
   "source": [
    "model_3 = SVR()\n",
    "model_3"
   ]
  },
  {
   "cell_type": "code",
   "execution_count": 241,
   "id": "d59c4818",
   "metadata": {},
   "outputs": [
    {
     "data": {
      "text/plain": [
       "SVR()"
      ]
     },
     "execution_count": 241,
     "metadata": {},
     "output_type": "execute_result"
    }
   ],
   "source": [
    "model_3.fit(X_train,y_train)"
   ]
  },
  {
   "cell_type": "code",
   "execution_count": 242,
   "id": "5a1a4c53",
   "metadata": {},
   "outputs": [
    {
     "name": "stdout",
     "output_type": "stream",
     "text": [
      "The training score RidgeRegression is: 71.97658530424982\n"
     ]
    }
   ],
   "source": [
    "print(f\"The training score RidgeRegression is: {model_3.score(X_train,y_train) * 100}\")"
   ]
  },
  {
   "cell_type": "code",
   "execution_count": 244,
   "id": "b9734778",
   "metadata": {},
   "outputs": [],
   "source": [
    "y_pre = model_3.predict(x_test)"
   ]
  },
  {
   "cell_type": "code",
   "execution_count": 245,
   "id": "1b2a5f92",
   "metadata": {},
   "outputs": [
    {
     "name": "stdout",
     "output_type": "stream",
     "text": [
      "The testing score of RidgeRegression is: 70.79971490169486 \n"
     ]
    }
   ],
   "source": [
    "print(f'The testing score of RidgeRegression is: {r2_score(y_test,y_pre) * 100} ')"
   ]
  },
  {
   "cell_type": "code",
   "execution_count": null,
   "id": "e48ca7c3",
   "metadata": {},
   "outputs": [],
   "source": []
  }
 ],
 "metadata": {
  "kernelspec": {
   "display_name": "Python 3 (ipykernel)",
   "language": "python",
   "name": "python3"
  },
  "language_info": {
   "codemirror_mode": {
    "name": "ipython",
    "version": 3
   },
   "file_extension": ".py",
   "mimetype": "text/x-python",
   "name": "python",
   "nbconvert_exporter": "python",
   "pygments_lexer": "ipython3",
   "version": "3.9.7"
  }
 },
 "nbformat": 4,
 "nbformat_minor": 5
}
