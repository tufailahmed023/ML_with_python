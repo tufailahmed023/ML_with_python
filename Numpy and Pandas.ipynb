{
 "cells": [
  {
   "cell_type": "code",
   "execution_count": 1,
   "id": "622e8121",
   "metadata": {},
   "outputs": [],
   "source": [
    "import numpy as np"
   ]
  },
  {
   "cell_type": "code",
   "execution_count": 3,
   "id": "6b597584",
   "metadata": {},
   "outputs": [
    {
     "data": {
      "text/plain": [
       "array([1, 2, 3])"
      ]
     },
     "execution_count": 3,
     "metadata": {},
     "output_type": "execute_result"
    }
   ],
   "source": [
    "arr=np.array([1,2,3])\n",
    "arr"
   ]
  },
  {
   "cell_type": "code",
   "execution_count": 5,
   "id": "b84ea73e",
   "metadata": {},
   "outputs": [
    {
     "data": {
      "text/plain": [
       "array([[1, 2, 3],\n",
       "       [3, 4, 6],\n",
       "       [5, 6, 7]])"
      ]
     },
     "execution_count": 5,
     "metadata": {},
     "output_type": "execute_result"
    }
   ],
   "source": [
    "list_of_lists=np.array(([1,2,3],[3,4,6],[5,6,7]))\n",
    "list_of_lists"
   ]
  },
  {
   "cell_type": "code",
   "execution_count": 6,
   "id": "e22b5945",
   "metadata": {},
   "outputs": [
    {
     "data": {
      "text/plain": [
       "array([54, 55, 56, 57, 58, 59, 60, 61, 62, 63, 64, 65, 66])"
      ]
     },
     "execution_count": 6,
     "metadata": {},
     "output_type": "execute_result"
    }
   ],
   "source": [
    "np.arange(54,67)"
   ]
  },
  {
   "cell_type": "code",
   "execution_count": 7,
   "id": "a7ec7540",
   "metadata": {},
   "outputs": [
    {
     "data": {
      "text/plain": [
       "array([54, 60, 66])"
      ]
     },
     "execution_count": 7,
     "metadata": {},
     "output_type": "execute_result"
    }
   ],
   "source": [
    "np.arange(54,67,6)"
   ]
  },
  {
   "cell_type": "code",
   "execution_count": 8,
   "id": "b85cf54b",
   "metadata": {},
   "outputs": [
    {
     "data": {
      "text/plain": [
       "array([0., 0., 0.])"
      ]
     },
     "execution_count": 8,
     "metadata": {},
     "output_type": "execute_result"
    }
   ],
   "source": [
    "np.zeros(3)"
   ]
  },
  {
   "cell_type": "code",
   "execution_count": 9,
   "id": "53d7555e",
   "metadata": {},
   "outputs": [
    {
     "data": {
      "text/plain": [
       "array([0, 0, 0, 0, 0])"
      ]
     },
     "execution_count": 9,
     "metadata": {},
     "output_type": "execute_result"
    }
   ],
   "source": [
    "np.zeros(5,int)"
   ]
  },
  {
   "cell_type": "code",
   "execution_count": 10,
   "id": "1c79dc29",
   "metadata": {},
   "outputs": [
    {
     "data": {
      "text/plain": [
       "array([[0, 0, 0, 0, 0],\n",
       "       [0, 0, 0, 0, 0]])"
      ]
     },
     "execution_count": 10,
     "metadata": {},
     "output_type": "execute_result"
    }
   ],
   "source": [
    "np.zeros((2,5),int)"
   ]
  },
  {
   "cell_type": "code",
   "execution_count": 13,
   "id": "df1ba304",
   "metadata": {},
   "outputs": [
    {
     "data": {
      "text/plain": [
       "array([0.        , 0.11111111, 0.22222222, 0.33333333, 0.44444444,\n",
       "       0.55555556, 0.66666667, 0.77777778, 0.88888889, 1.        ])"
      ]
     },
     "execution_count": 13,
     "metadata": {},
     "output_type": "execute_result"
    }
   ],
   "source": [
    "np.linspace(0,1,10)"
   ]
  },
  {
   "cell_type": "code",
   "execution_count": 14,
   "id": "f7fada01",
   "metadata": {},
   "outputs": [
    {
     "data": {
      "text/plain": [
       "array([0.        , 0.05263158, 0.10526316, 0.15789474, 0.21052632,\n",
       "       0.26315789, 0.31578947, 0.36842105, 0.42105263, 0.47368421,\n",
       "       0.52631579, 0.57894737, 0.63157895, 0.68421053, 0.73684211,\n",
       "       0.78947368, 0.84210526, 0.89473684, 0.94736842, 1.        ])"
      ]
     },
     "execution_count": 14,
     "metadata": {},
     "output_type": "execute_result"
    }
   ],
   "source": [
    "np.linspace(0,1,20)"
   ]
  },
  {
   "cell_type": "code",
   "execution_count": 15,
   "id": "7db49a9c",
   "metadata": {},
   "outputs": [
    {
     "data": {
      "text/plain": [
       "array([[1., 0., 0.],\n",
       "       [0., 1., 0.],\n",
       "       [0., 0., 1.]])"
      ]
     },
     "execution_count": 15,
     "metadata": {},
     "output_type": "execute_result"
    }
   ],
   "source": [
    "np.eye(3)"
   ]
  },
  {
   "cell_type": "code",
   "execution_count": 18,
   "id": "00979316",
   "metadata": {},
   "outputs": [
    {
     "data": {
      "text/plain": [
       "array([[1., 0., 0., 0., 0.],\n",
       "       [0., 1., 0., 0., 0.],\n",
       "       [0., 0., 1., 0., 0.],\n",
       "       [0., 0., 0., 1., 0.],\n",
       "       [0., 0., 0., 0., 1.]])"
      ]
     },
     "execution_count": 18,
     "metadata": {},
     "output_type": "execute_result"
    }
   ],
   "source": [
    "np.eye(5,)"
   ]
  },
  {
   "cell_type": "code",
   "execution_count": 20,
   "id": "d023c2c2",
   "metadata": {},
   "outputs": [
    {
     "data": {
      "text/plain": [
       "array([0.62690554, 0.91899241])"
      ]
     },
     "execution_count": 20,
     "metadata": {},
     "output_type": "execute_result"
    }
   ],
   "source": [
    "np.random.rand(2)"
   ]
  },
  {
   "cell_type": "code",
   "execution_count": 63,
   "id": "ebf4ebe1",
   "metadata": {},
   "outputs": [
    {
     "data": {
      "text/plain": [
       "array([5, 5, 5, 2, 2])"
      ]
     },
     "execution_count": 63,
     "metadata": {},
     "output_type": "execute_result"
    }
   ],
   "source": [
    "rand_arr=np.random.randint(0,10,5)\n",
    "rand_arr"
   ]
  },
  {
   "cell_type": "code",
   "execution_count": 64,
   "id": "84140ba2",
   "metadata": {},
   "outputs": [
    {
     "data": {
      "text/plain": [
       "2"
      ]
     },
     "execution_count": 64,
     "metadata": {},
     "output_type": "execute_result"
    }
   ],
   "source": [
    "rand_arr.min()"
   ]
  },
  {
   "cell_type": "code",
   "execution_count": 65,
   "id": "122a2049",
   "metadata": {},
   "outputs": [
    {
     "data": {
      "text/plain": [
       "5"
      ]
     },
     "execution_count": 65,
     "metadata": {},
     "output_type": "execute_result"
    }
   ],
   "source": [
    "rand_arr.max()"
   ]
  },
  {
   "cell_type": "code",
   "execution_count": 25,
   "id": "bd9c4b52",
   "metadata": {},
   "outputs": [
    {
     "data": {
      "text/plain": [
       "4"
      ]
     },
     "execution_count": 25,
     "metadata": {},
     "output_type": "execute_result"
    }
   ],
   "source": [
    "rand_arr.argmin()"
   ]
  },
  {
   "cell_type": "code",
   "execution_count": 26,
   "id": "2fbb2c30",
   "metadata": {},
   "outputs": [
    {
     "data": {
      "text/plain": [
       "1"
      ]
     },
     "execution_count": 26,
     "metadata": {},
     "output_type": "execute_result"
    }
   ],
   "source": [
    "rand_arr.argmax()"
   ]
  },
  {
   "cell_type": "code",
   "execution_count": 31,
   "id": "ac488d98",
   "metadata": {},
   "outputs": [
    {
     "data": {
      "text/plain": [
       "array([10, 11, 12, 13, 14, 15, 16, 17, 18, 19, 20, 21, 22, 23, 24, 25])"
      ]
     },
     "execution_count": 31,
     "metadata": {},
     "output_type": "execute_result"
    }
   ],
   "source": [
    "simple_arr=np.arange(10,26)\n",
    "simple_arr"
   ]
  },
  {
   "cell_type": "code",
   "execution_count": 62,
   "id": "7faf6460",
   "metadata": {},
   "outputs": [
    {
     "ename": "ValueError",
     "evalue": "cannot reshape array of size 16 into shape (3,4)",
     "output_type": "error",
     "traceback": [
      "\u001b[1;31m---------------------------------------------------------------------------\u001b[0m",
      "\u001b[1;31mValueError\u001b[0m                                Traceback (most recent call last)",
      "\u001b[1;32m~\\AppData\\Local\\Temp/ipykernel_14476/3304652549.py\u001b[0m in \u001b[0;36m<module>\u001b[1;34m\u001b[0m\n\u001b[1;32m----> 1\u001b[1;33m \u001b[0msimple_arr\u001b[0m\u001b[1;33m=\u001b[0m\u001b[0msimple_arr\u001b[0m\u001b[1;33m.\u001b[0m\u001b[0mreshape\u001b[0m\u001b[1;33m(\u001b[0m\u001b[1;36m3\u001b[0m\u001b[1;33m,\u001b[0m\u001b[1;36m4\u001b[0m\u001b[1;33m)\u001b[0m\u001b[1;33m\u001b[0m\u001b[1;33m\u001b[0m\u001b[0m\n\u001b[0m",
      "\u001b[1;31mValueError\u001b[0m: cannot reshape array of size 16 into shape (3,4)"
     ]
    }
   ],
   "source": [
    "simple_arr=simple_arr.reshape(3,4)"
   ]
  },
  {
   "cell_type": "code",
   "execution_count": null,
   "id": "d0be63bd",
   "metadata": {},
   "outputs": [],
   "source": []
  },
  {
   "cell_type": "markdown",
   "id": "0c695a6e",
   "metadata": {},
   "source": [
    "# Two-dimensional array"
   ]
  },
  {
   "cell_type": "code",
   "execution_count": 36,
   "id": "689d73a0",
   "metadata": {},
   "outputs": [
    {
     "data": {
      "text/plain": [
       "array([[1, 2, 3, 4],\n",
       "       [2, 3, 4, 5],\n",
       "       [6, 7, 8, 9],\n",
       "       [3, 4, 5, 6]])"
      ]
     },
     "execution_count": 36,
     "metadata": {},
     "output_type": "execute_result"
    }
   ],
   "source": [
    "simple_matrix=np.array([[1,2,3,4],[2,3,4,5],[6,7,8,9],[3,4,5,6]])\n",
    "simple_matrix"
   ]
  },
  {
   "cell_type": "code",
   "execution_count": 37,
   "id": "de2a1a1c",
   "metadata": {},
   "outputs": [
    {
     "data": {
      "text/plain": [
       "array([[6, 7, 8, 9]])"
      ]
     },
     "execution_count": 37,
     "metadata": {},
     "output_type": "execute_result"
    }
   ],
   "source": [
    "simple_matrix[2:3]"
   ]
  },
  {
   "cell_type": "code",
   "execution_count": 38,
   "id": "4a15c07b",
   "metadata": {},
   "outputs": [
    {
     "data": {
      "text/plain": [
       "array([3, 4, 8, 5])"
      ]
     },
     "execution_count": 38,
     "metadata": {},
     "output_type": "execute_result"
    }
   ],
   "source": [
    "simple_matrix[:,2]"
   ]
  },
  {
   "cell_type": "code",
   "execution_count": 39,
   "id": "959f0a33",
   "metadata": {},
   "outputs": [
    {
     "data": {
      "text/plain": [
       "3"
      ]
     },
     "execution_count": 39,
     "metadata": {},
     "output_type": "execute_result"
    }
   ],
   "source": [
    "simple_matrix[1,1]"
   ]
  },
  {
   "cell_type": "code",
   "execution_count": 40,
   "id": "7b31cf71",
   "metadata": {},
   "outputs": [
    {
     "data": {
      "text/plain": [
       "array([[4, 5],\n",
       "       [8, 9]])"
      ]
     },
     "execution_count": 40,
     "metadata": {},
     "output_type": "execute_result"
    }
   ],
   "source": [
    "simple_matrix[1:3,2:4]"
   ]
  },
  {
   "cell_type": "code",
   "execution_count": 42,
   "id": "bbf4a8ed",
   "metadata": {},
   "outputs": [
    {
     "data": {
      "text/plain": [
       "array([[4, 5],\n",
       "       [8, 9],\n",
       "       [5, 6]])"
      ]
     },
     "execution_count": 42,
     "metadata": {},
     "output_type": "execute_result"
    }
   ],
   "source": [
    "simple_matrix[1:,2:]"
   ]
  },
  {
   "cell_type": "code",
   "execution_count": 43,
   "id": "ac32d91c",
   "metadata": {},
   "outputs": [
    {
     "data": {
      "text/plain": [
       "array([6, 7, 8, 9])"
      ]
     },
     "execution_count": 43,
     "metadata": {},
     "output_type": "execute_result"
    }
   ],
   "source": [
    "simple_matrix[2]"
   ]
  },
  {
   "cell_type": "code",
   "execution_count": 44,
   "id": "f074a94f",
   "metadata": {},
   "outputs": [
    {
     "data": {
      "text/plain": [
       "array([[4, 3],\n",
       "       [5, 4],\n",
       "       [9, 8],\n",
       "       [6, 5]])"
      ]
     },
     "execution_count": 44,
     "metadata": {},
     "output_type": "execute_result"
    }
   ],
   "source": [
    "simple_matrix[:,(3,2)]"
   ]
  },
  {
   "cell_type": "code",
   "execution_count": 46,
   "id": "cbb97c71",
   "metadata": {},
   "outputs": [
    {
     "data": {
      "text/plain": [
       "array([ 1,  2,  3,  4,  5,  6,  7,  8,  9, 10, 11, 12, 13, 14, 15, 16, 17,\n",
       "       18, 19, 20, 21, 22, 23, 24, 25, 26, 27, 28, 29, 30])"
      ]
     },
     "execution_count": 46,
     "metadata": {},
     "output_type": "execute_result"
    }
   ],
   "source": [
    "sample_array=np.arange(1,31)\n",
    "sample_array"
   ]
  },
  {
   "cell_type": "code",
   "execution_count": 47,
   "id": "2e41e1f2",
   "metadata": {},
   "outputs": [
    {
     "data": {
      "text/plain": [
       "array([ 2,  4,  6,  8, 10, 12, 14, 16, 18, 20, 22, 24, 26, 28, 30, 32, 34,\n",
       "       36, 38, 40, 42, 44, 46, 48, 50, 52, 54, 56, 58, 60])"
      ]
     },
     "execution_count": 47,
     "metadata": {},
     "output_type": "execute_result"
    }
   ],
   "source": [
    "sample_array+sample_array"
   ]
  },
  {
   "cell_type": "code",
   "execution_count": 60,
   "id": "baf3721a",
   "metadata": {},
   "outputs": [
    {
     "data": {
      "text/plain": [
       "array([2.71828183e+00, 7.38905610e+00, 2.00855369e+01, 5.45981500e+01,\n",
       "       1.48413159e+02, 4.03428793e+02, 1.09663316e+03, 2.98095799e+03,\n",
       "       8.10308393e+03, 2.20264658e+04, 5.98741417e+04, 1.62754791e+05,\n",
       "       4.42413392e+05, 1.20260428e+06, 3.26901737e+06, 8.88611052e+06,\n",
       "       2.41549528e+07, 6.56599691e+07, 1.78482301e+08, 4.85165195e+08,\n",
       "       1.31881573e+09, 3.58491285e+09, 9.74480345e+09, 2.64891221e+10,\n",
       "       7.20048993e+10, 1.95729609e+11, 5.32048241e+11, 1.44625706e+12,\n",
       "       3.93133430e+12, 1.06864746e+13])"
      ]
     },
     "execution_count": 60,
     "metadata": {},
     "output_type": "execute_result"
    }
   ],
   "source": [
    "np.exp(sample_array)"
   ]
  },
  {
   "cell_type": "code",
   "execution_count": 49,
   "id": "90a92903",
   "metadata": {},
   "outputs": [
    {
     "data": {
      "text/plain": [
       "array([0.        , 0.69314718, 1.09861229, 1.38629436, 1.60943791,\n",
       "       1.79175947, 1.94591015, 2.07944154, 2.19722458, 2.30258509,\n",
       "       2.39789527, 2.48490665, 2.56494936, 2.63905733, 2.7080502 ,\n",
       "       2.77258872, 2.83321334, 2.89037176, 2.94443898, 2.99573227,\n",
       "       3.04452244, 3.09104245, 3.13549422, 3.17805383, 3.21887582,\n",
       "       3.25809654, 3.29583687, 3.33220451, 3.36729583, 3.40119738])"
      ]
     },
     "execution_count": 49,
     "metadata": {},
     "output_type": "execute_result"
    }
   ],
   "source": [
    "np.log(sample_array)"
   ]
  },
  {
   "cell_type": "code",
   "execution_count": 50,
   "id": "323fda30",
   "metadata": {},
   "outputs": [
    {
     "data": {
      "text/plain": [
       "array([1.        , 1.41421356, 1.73205081, 2.        , 2.23606798,\n",
       "       2.44948974, 2.64575131, 2.82842712, 3.        , 3.16227766,\n",
       "       3.31662479, 3.46410162, 3.60555128, 3.74165739, 3.87298335,\n",
       "       4.        , 4.12310563, 4.24264069, 4.35889894, 4.47213595,\n",
       "       4.58257569, 4.69041576, 4.79583152, 4.89897949, 5.        ,\n",
       "       5.09901951, 5.19615242, 5.29150262, 5.38516481, 5.47722558])"
      ]
     },
     "execution_count": 50,
     "metadata": {},
     "output_type": "execute_result"
    }
   ],
   "source": [
    "np.sqrt(sample_array)"
   ]
  },
  {
   "cell_type": "code",
   "execution_count": 51,
   "id": "77946dd8",
   "metadata": {},
   "outputs": [
    {
     "data": {
      "text/plain": [
       "30"
      ]
     },
     "execution_count": 51,
     "metadata": {},
     "output_type": "execute_result"
    }
   ],
   "source": [
    "np.max(sample_array)"
   ]
  },
  {
   "cell_type": "code",
   "execution_count": 52,
   "id": "8530f699",
   "metadata": {},
   "outputs": [
    {
     "data": {
      "text/plain": [
       "1"
      ]
     },
     "execution_count": 52,
     "metadata": {},
     "output_type": "execute_result"
    }
   ],
   "source": [
    "np.min(sample_array)"
   ]
  },
  {
   "cell_type": "code",
   "execution_count": 54,
   "id": "945b976e",
   "metadata": {},
   "outputs": [
    {
     "data": {
      "text/plain": [
       "29"
      ]
     },
     "execution_count": 54,
     "metadata": {},
     "output_type": "execute_result"
    }
   ],
   "source": [
    "np.argmax(sample_array)"
   ]
  },
  {
   "cell_type": "code",
   "execution_count": 55,
   "id": "9adf71d2",
   "metadata": {},
   "outputs": [
    {
     "data": {
      "text/plain": [
       "0"
      ]
     },
     "execution_count": 55,
     "metadata": {},
     "output_type": "execute_result"
    }
   ],
   "source": [
    "np.argmin(sample_array)"
   ]
  },
  {
   "cell_type": "code",
   "execution_count": 56,
   "id": "603a0480",
   "metadata": {},
   "outputs": [
    {
     "data": {
      "text/plain": [
       "8.65544144839919"
      ]
     },
     "execution_count": 56,
     "metadata": {},
     "output_type": "execute_result"
    }
   ],
   "source": [
    "np.std(sample_array)"
   ]
  },
  {
   "cell_type": "code",
   "execution_count": 57,
   "id": "ab5a4d99",
   "metadata": {},
   "outputs": [
    {
     "data": {
      "text/plain": [
       "74.91666666666667"
      ]
     },
     "execution_count": 57,
     "metadata": {},
     "output_type": "execute_result"
    }
   ],
   "source": [
    "np.var(sample_array)"
   ]
  },
  {
   "cell_type": "code",
   "execution_count": 58,
   "id": "86f63b21",
   "metadata": {},
   "outputs": [
    {
     "data": {
      "text/plain": [
       "15.5"
      ]
     },
     "execution_count": 58,
     "metadata": {},
     "output_type": "execute_result"
    }
   ],
   "source": [
    "np.mean(sample_array)"
   ]
  },
  {
   "cell_type": "markdown",
   "id": "5492efb7",
   "metadata": {},
   "source": [
    "# Pandas"
   ]
  },
  {
   "cell_type": "code",
   "execution_count": 59,
   "id": "4915785d",
   "metadata": {},
   "outputs": [],
   "source": [
    "import pandas as pd"
   ]
  },
  {
   "cell_type": "code",
   "execution_count": 66,
   "id": "d5589fd1",
   "metadata": {},
   "outputs": [],
   "source": [
    "labls=[\"w\",'x','y','z']\n",
    "sample_list=[10,20,30,40]\n",
    "array=np.array([10,20,30,40])\n",
    "dict={'w':10,\"x\":20,\"y\":30,\"z\":40}\n"
   ]
  },
  {
   "cell_type": "code",
   "execution_count": 67,
   "id": "e868d97b",
   "metadata": {},
   "outputs": [
    {
     "data": {
      "text/plain": [
       "0    10\n",
       "1    20\n",
       "2    30\n",
       "3    40\n",
       "dtype: int64"
      ]
     },
     "execution_count": 67,
     "metadata": {},
     "output_type": "execute_result"
    }
   ],
   "source": [
    "pd.Series(data=sample_list)"
   ]
  },
  {
   "cell_type": "code",
   "execution_count": 68,
   "id": "52e474ad",
   "metadata": {},
   "outputs": [
    {
     "data": {
      "text/plain": [
       "w    10\n",
       "x    20\n",
       "y    30\n",
       "z    40\n",
       "dtype: int64"
      ]
     },
     "execution_count": 68,
     "metadata": {},
     "output_type": "execute_result"
    }
   ],
   "source": [
    "pd.Series(data=sample_list,index=labls)"
   ]
  },
  {
   "cell_type": "code",
   "execution_count": 69,
   "id": "c476f247",
   "metadata": {},
   "outputs": [
    {
     "data": {
      "text/plain": [
       "w    10\n",
       "x    20\n",
       "y    30\n",
       "z    40\n",
       "dtype: int32"
      ]
     },
     "execution_count": 69,
     "metadata": {},
     "output_type": "execute_result"
    }
   ],
   "source": [
    "pd.Series(array,labls)"
   ]
  },
  {
   "cell_type": "code",
   "execution_count": 70,
   "id": "2e1ec5f7",
   "metadata": {},
   "outputs": [
    {
     "data": {
      "text/plain": [
       "w    10\n",
       "x    20\n",
       "y    30\n",
       "z    40\n",
       "dtype: int64"
      ]
     },
     "execution_count": 70,
     "metadata": {},
     "output_type": "execute_result"
    }
   ],
   "source": [
    "pd.Series(dict)"
   ]
  },
  {
   "cell_type": "markdown",
   "id": "cbef5aa9",
   "metadata": {},
   "source": [
    "# Pandas dataframe and indexing"
   ]
  },
  {
   "cell_type": "code",
   "execution_count": 72,
   "id": "73ab43ed",
   "metadata": {},
   "outputs": [
    {
     "data": {
      "text/plain": [
       "cricket     1\n",
       "football    2\n",
       "baskball    3\n",
       "golf        4\n",
       "dtype: int64"
      ]
     },
     "execution_count": 72,
     "metadata": {},
     "output_type": "execute_result"
    }
   ],
   "source": [
    "sports1=pd.Series([1,2,3,4],index=['cricket','football','baskball','golf'])\n",
    "sports1"
   ]
  },
  {
   "cell_type": "code",
   "execution_count": 73,
   "id": "938c5503",
   "metadata": {},
   "outputs": [
    {
     "data": {
      "text/plain": [
       "4"
      ]
     },
     "execution_count": 73,
     "metadata": {},
     "output_type": "execute_result"
    }
   ],
   "source": [
    "sports1['golf']"
   ]
  },
  {
   "cell_type": "code",
   "execution_count": 76,
   "id": "d7fc2b12",
   "metadata": {},
   "outputs": [
    {
     "data": {
      "text/plain": [
       "cricket     11\n",
       "football     2\n",
       "baseball    33\n",
       "golf         4\n",
       "dtype: int64"
      ]
     },
     "execution_count": 76,
     "metadata": {},
     "output_type": "execute_result"
    }
   ],
   "source": [
    "sports2=pd.Series([11,2,33,4],index=['cricket','football','baseball','golf'])\n",
    "sports2"
   ]
  },
  {
   "cell_type": "code",
   "execution_count": 77,
   "id": "99a1d91e",
   "metadata": {},
   "outputs": [
    {
     "data": {
      "text/plain": [
       "baseball     NaN\n",
       "baskball     NaN\n",
       "cricket     12.0\n",
       "football     4.0\n",
       "golf         8.0\n",
       "dtype: float64"
      ]
     },
     "execution_count": 77,
     "metadata": {},
     "output_type": "execute_result"
    }
   ],
   "source": [
    "sports1+sports2"
   ]
  },
  {
   "cell_type": "code",
   "execution_count": 79,
   "id": "de77cca3",
   "metadata": {},
   "outputs": [
    {
     "data": {
      "text/html": [
       "<div>\n",
       "<style scoped>\n",
       "    .dataframe tbody tr th:only-of-type {\n",
       "        vertical-align: middle;\n",
       "    }\n",
       "\n",
       "    .dataframe tbody tr th {\n",
       "        vertical-align: top;\n",
       "    }\n",
       "\n",
       "    .dataframe thead th {\n",
       "        text-align: right;\n",
       "    }\n",
       "</style>\n",
       "<table border=\"1\" class=\"dataframe\">\n",
       "  <thead>\n",
       "    <tr style=\"text-align: right;\">\n",
       "      <th></th>\n",
       "      <th>Score1</th>\n",
       "      <th>Score2</th>\n",
       "      <th>Score3</th>\n",
       "      <th>Score4</th>\n",
       "      <th>Score5</th>\n",
       "    </tr>\n",
       "  </thead>\n",
       "  <tbody>\n",
       "    <tr>\n",
       "      <th>A</th>\n",
       "      <td>0.076991</td>\n",
       "      <td>-0.619067</td>\n",
       "      <td>-0.632012</td>\n",
       "      <td>0.118664</td>\n",
       "      <td>-1.171895</td>\n",
       "    </tr>\n",
       "    <tr>\n",
       "      <th>B</th>\n",
       "      <td>-0.430052</td>\n",
       "      <td>0.459685</td>\n",
       "      <td>-1.306457</td>\n",
       "      <td>-1.168838</td>\n",
       "      <td>1.541668</td>\n",
       "    </tr>\n",
       "    <tr>\n",
       "      <th>C</th>\n",
       "      <td>0.950869</td>\n",
       "      <td>-0.228141</td>\n",
       "      <td>0.142024</td>\n",
       "      <td>-0.104746</td>\n",
       "      <td>-1.924196</td>\n",
       "    </tr>\n",
       "    <tr>\n",
       "      <th>D</th>\n",
       "      <td>0.093967</td>\n",
       "      <td>0.530941</td>\n",
       "      <td>-1.665696</td>\n",
       "      <td>-0.155887</td>\n",
       "      <td>-0.177889</td>\n",
       "    </tr>\n",
       "    <tr>\n",
       "      <th>E</th>\n",
       "      <td>-0.126519</td>\n",
       "      <td>-0.859936</td>\n",
       "      <td>-0.526581</td>\n",
       "      <td>-0.791539</td>\n",
       "      <td>-0.485425</td>\n",
       "    </tr>\n",
       "    <tr>\n",
       "      <th>F</th>\n",
       "      <td>-0.163261</td>\n",
       "      <td>0.593701</td>\n",
       "      <td>-0.318123</td>\n",
       "      <td>0.800113</td>\n",
       "      <td>-0.205674</td>\n",
       "    </tr>\n",
       "    <tr>\n",
       "      <th>G</th>\n",
       "      <td>-0.111678</td>\n",
       "      <td>0.671102</td>\n",
       "      <td>1.257831</td>\n",
       "      <td>-0.860590</td>\n",
       "      <td>-1.729263</td>\n",
       "    </tr>\n",
       "    <tr>\n",
       "      <th>H</th>\n",
       "      <td>0.393427</td>\n",
       "      <td>0.255425</td>\n",
       "      <td>-1.244344</td>\n",
       "      <td>-0.724786</td>\n",
       "      <td>-0.406074</td>\n",
       "    </tr>\n",
       "  </tbody>\n",
       "</table>\n",
       "</div>"
      ],
      "text/plain": [
       "     Score1    Score2    Score3    Score4    Score5\n",
       "A  0.076991 -0.619067 -0.632012  0.118664 -1.171895\n",
       "B -0.430052  0.459685 -1.306457 -1.168838  1.541668\n",
       "C  0.950869 -0.228141  0.142024 -0.104746 -1.924196\n",
       "D  0.093967  0.530941 -1.665696 -0.155887 -0.177889\n",
       "E -0.126519 -0.859936 -0.526581 -0.791539 -0.485425\n",
       "F -0.163261  0.593701 -0.318123  0.800113 -0.205674\n",
       "G -0.111678  0.671102  1.257831 -0.860590 -1.729263\n",
       "H  0.393427  0.255425 -1.244344 -0.724786 -0.406074"
      ]
     },
     "execution_count": 79,
     "metadata": {},
     "output_type": "execute_result"
    }
   ],
   "source": [
    "df1=pd.DataFrame(np.random.randn(8,5),index=\"A B C D E F G H\".split(),columns=\"Score1 Score2 Score3 Score4 Score5\".split())\n",
    "df1"
   ]
  },
  {
   "cell_type": "code",
   "execution_count": 80,
   "id": "88fd2c4e",
   "metadata": {},
   "outputs": [
    {
     "data": {
      "text/plain": [
       "A    0.076991\n",
       "B   -0.430052\n",
       "C    0.950869\n",
       "D    0.093967\n",
       "E   -0.126519\n",
       "F   -0.163261\n",
       "G   -0.111678\n",
       "H    0.393427\n",
       "Name: Score1, dtype: float64"
      ]
     },
     "execution_count": 80,
     "metadata": {},
     "output_type": "execute_result"
    }
   ],
   "source": [
    "df1[\"Score1\"]"
   ]
  },
  {
   "cell_type": "code",
   "execution_count": 82,
   "id": "2d4a32c6",
   "metadata": {},
   "outputs": [
    {
     "data": {
      "text/html": [
       "<div>\n",
       "<style scoped>\n",
       "    .dataframe tbody tr th:only-of-type {\n",
       "        vertical-align: middle;\n",
       "    }\n",
       "\n",
       "    .dataframe tbody tr th {\n",
       "        vertical-align: top;\n",
       "    }\n",
       "\n",
       "    .dataframe thead th {\n",
       "        text-align: right;\n",
       "    }\n",
       "</style>\n",
       "<table border=\"1\" class=\"dataframe\">\n",
       "  <thead>\n",
       "    <tr style=\"text-align: right;\">\n",
       "      <th></th>\n",
       "      <th>Score1</th>\n",
       "      <th>Score2</th>\n",
       "    </tr>\n",
       "  </thead>\n",
       "  <tbody>\n",
       "    <tr>\n",
       "      <th>A</th>\n",
       "      <td>0.076991</td>\n",
       "      <td>-0.619067</td>\n",
       "    </tr>\n",
       "    <tr>\n",
       "      <th>B</th>\n",
       "      <td>-0.430052</td>\n",
       "      <td>0.459685</td>\n",
       "    </tr>\n",
       "    <tr>\n",
       "      <th>C</th>\n",
       "      <td>0.950869</td>\n",
       "      <td>-0.228141</td>\n",
       "    </tr>\n",
       "    <tr>\n",
       "      <th>D</th>\n",
       "      <td>0.093967</td>\n",
       "      <td>0.530941</td>\n",
       "    </tr>\n",
       "    <tr>\n",
       "      <th>E</th>\n",
       "      <td>-0.126519</td>\n",
       "      <td>-0.859936</td>\n",
       "    </tr>\n",
       "    <tr>\n",
       "      <th>F</th>\n",
       "      <td>-0.163261</td>\n",
       "      <td>0.593701</td>\n",
       "    </tr>\n",
       "    <tr>\n",
       "      <th>G</th>\n",
       "      <td>-0.111678</td>\n",
       "      <td>0.671102</td>\n",
       "    </tr>\n",
       "    <tr>\n",
       "      <th>H</th>\n",
       "      <td>0.393427</td>\n",
       "      <td>0.255425</td>\n",
       "    </tr>\n",
       "  </tbody>\n",
       "</table>\n",
       "</div>"
      ],
      "text/plain": [
       "     Score1    Score2\n",
       "A  0.076991 -0.619067\n",
       "B -0.430052  0.459685\n",
       "C  0.950869 -0.228141\n",
       "D  0.093967  0.530941\n",
       "E -0.126519 -0.859936\n",
       "F -0.163261  0.593701\n",
       "G -0.111678  0.671102\n",
       "H  0.393427  0.255425"
      ]
     },
     "execution_count": 82,
     "metadata": {},
     "output_type": "execute_result"
    }
   ],
   "source": [
    "df1[[\"Score1\",\"Score2\"]]"
   ]
  },
  {
   "cell_type": "code",
   "execution_count": 83,
   "id": "b604f468",
   "metadata": {},
   "outputs": [],
   "source": [
    "df1[\"Score6\"]=df1[\"Score1\"]+df1[\"Score2\"]"
   ]
  },
  {
   "cell_type": "code",
   "execution_count": 84,
   "id": "0fbb6451",
   "metadata": {},
   "outputs": [
    {
     "data": {
      "text/html": [
       "<div>\n",
       "<style scoped>\n",
       "    .dataframe tbody tr th:only-of-type {\n",
       "        vertical-align: middle;\n",
       "    }\n",
       "\n",
       "    .dataframe tbody tr th {\n",
       "        vertical-align: top;\n",
       "    }\n",
       "\n",
       "    .dataframe thead th {\n",
       "        text-align: right;\n",
       "    }\n",
       "</style>\n",
       "<table border=\"1\" class=\"dataframe\">\n",
       "  <thead>\n",
       "    <tr style=\"text-align: right;\">\n",
       "      <th></th>\n",
       "      <th>Score1</th>\n",
       "      <th>Score2</th>\n",
       "      <th>Score3</th>\n",
       "      <th>Score4</th>\n",
       "      <th>Score5</th>\n",
       "      <th>Score6</th>\n",
       "    </tr>\n",
       "  </thead>\n",
       "  <tbody>\n",
       "    <tr>\n",
       "      <th>A</th>\n",
       "      <td>0.076991</td>\n",
       "      <td>-0.619067</td>\n",
       "      <td>-0.632012</td>\n",
       "      <td>0.118664</td>\n",
       "      <td>-1.171895</td>\n",
       "      <td>-0.542076</td>\n",
       "    </tr>\n",
       "    <tr>\n",
       "      <th>B</th>\n",
       "      <td>-0.430052</td>\n",
       "      <td>0.459685</td>\n",
       "      <td>-1.306457</td>\n",
       "      <td>-1.168838</td>\n",
       "      <td>1.541668</td>\n",
       "      <td>0.029632</td>\n",
       "    </tr>\n",
       "    <tr>\n",
       "      <th>C</th>\n",
       "      <td>0.950869</td>\n",
       "      <td>-0.228141</td>\n",
       "      <td>0.142024</td>\n",
       "      <td>-0.104746</td>\n",
       "      <td>-1.924196</td>\n",
       "      <td>0.722727</td>\n",
       "    </tr>\n",
       "    <tr>\n",
       "      <th>D</th>\n",
       "      <td>0.093967</td>\n",
       "      <td>0.530941</td>\n",
       "      <td>-1.665696</td>\n",
       "      <td>-0.155887</td>\n",
       "      <td>-0.177889</td>\n",
       "      <td>0.624908</td>\n",
       "    </tr>\n",
       "    <tr>\n",
       "      <th>E</th>\n",
       "      <td>-0.126519</td>\n",
       "      <td>-0.859936</td>\n",
       "      <td>-0.526581</td>\n",
       "      <td>-0.791539</td>\n",
       "      <td>-0.485425</td>\n",
       "      <td>-0.986454</td>\n",
       "    </tr>\n",
       "    <tr>\n",
       "      <th>F</th>\n",
       "      <td>-0.163261</td>\n",
       "      <td>0.593701</td>\n",
       "      <td>-0.318123</td>\n",
       "      <td>0.800113</td>\n",
       "      <td>-0.205674</td>\n",
       "      <td>0.430440</td>\n",
       "    </tr>\n",
       "    <tr>\n",
       "      <th>G</th>\n",
       "      <td>-0.111678</td>\n",
       "      <td>0.671102</td>\n",
       "      <td>1.257831</td>\n",
       "      <td>-0.860590</td>\n",
       "      <td>-1.729263</td>\n",
       "      <td>0.559424</td>\n",
       "    </tr>\n",
       "    <tr>\n",
       "      <th>H</th>\n",
       "      <td>0.393427</td>\n",
       "      <td>0.255425</td>\n",
       "      <td>-1.244344</td>\n",
       "      <td>-0.724786</td>\n",
       "      <td>-0.406074</td>\n",
       "      <td>0.648852</td>\n",
       "    </tr>\n",
       "  </tbody>\n",
       "</table>\n",
       "</div>"
      ],
      "text/plain": [
       "     Score1    Score2    Score3    Score4    Score5    Score6\n",
       "A  0.076991 -0.619067 -0.632012  0.118664 -1.171895 -0.542076\n",
       "B -0.430052  0.459685 -1.306457 -1.168838  1.541668  0.029632\n",
       "C  0.950869 -0.228141  0.142024 -0.104746 -1.924196  0.722727\n",
       "D  0.093967  0.530941 -1.665696 -0.155887 -0.177889  0.624908\n",
       "E -0.126519 -0.859936 -0.526581 -0.791539 -0.485425 -0.986454\n",
       "F -0.163261  0.593701 -0.318123  0.800113 -0.205674  0.430440\n",
       "G -0.111678  0.671102  1.257831 -0.860590 -1.729263  0.559424\n",
       "H  0.393427  0.255425 -1.244344 -0.724786 -0.406074  0.648852"
      ]
     },
     "execution_count": 84,
     "metadata": {},
     "output_type": "execute_result"
    }
   ],
   "source": [
    "df1"
   ]
  },
  {
   "cell_type": "code",
   "execution_count": 86,
   "id": "7766cb05",
   "metadata": {},
   "outputs": [
    {
     "data": {
      "text/html": [
       "<div>\n",
       "<style scoped>\n",
       "    .dataframe tbody tr th:only-of-type {\n",
       "        vertical-align: middle;\n",
       "    }\n",
       "\n",
       "    .dataframe tbody tr th {\n",
       "        vertical-align: top;\n",
       "    }\n",
       "\n",
       "    .dataframe thead th {\n",
       "        text-align: right;\n",
       "    }\n",
       "</style>\n",
       "<table border=\"1\" class=\"dataframe\">\n",
       "  <thead>\n",
       "    <tr style=\"text-align: right;\">\n",
       "      <th></th>\n",
       "      <th>Score1</th>\n",
       "      <th>Score2</th>\n",
       "      <th>Score3</th>\n",
       "      <th>Score4</th>\n",
       "      <th>Score5</th>\n",
       "      <th>Score6</th>\n",
       "    </tr>\n",
       "  </thead>\n",
       "  <tbody>\n",
       "    <tr>\n",
       "      <th>B</th>\n",
       "      <td>-0.430052</td>\n",
       "      <td>0.459685</td>\n",
       "      <td>-1.306457</td>\n",
       "      <td>-1.168838</td>\n",
       "      <td>1.541668</td>\n",
       "      <td>0.029632</td>\n",
       "    </tr>\n",
       "    <tr>\n",
       "      <th>C</th>\n",
       "      <td>0.950869</td>\n",
       "      <td>-0.228141</td>\n",
       "      <td>0.142024</td>\n",
       "      <td>-0.104746</td>\n",
       "      <td>-1.924196</td>\n",
       "      <td>0.722727</td>\n",
       "    </tr>\n",
       "    <tr>\n",
       "      <th>D</th>\n",
       "      <td>0.093967</td>\n",
       "      <td>0.530941</td>\n",
       "      <td>-1.665696</td>\n",
       "      <td>-0.155887</td>\n",
       "      <td>-0.177889</td>\n",
       "      <td>0.624908</td>\n",
       "    </tr>\n",
       "    <tr>\n",
       "      <th>E</th>\n",
       "      <td>-0.126519</td>\n",
       "      <td>-0.859936</td>\n",
       "      <td>-0.526581</td>\n",
       "      <td>-0.791539</td>\n",
       "      <td>-0.485425</td>\n",
       "      <td>-0.986454</td>\n",
       "    </tr>\n",
       "    <tr>\n",
       "      <th>F</th>\n",
       "      <td>-0.163261</td>\n",
       "      <td>0.593701</td>\n",
       "      <td>-0.318123</td>\n",
       "      <td>0.800113</td>\n",
       "      <td>-0.205674</td>\n",
       "      <td>0.430440</td>\n",
       "    </tr>\n",
       "    <tr>\n",
       "      <th>G</th>\n",
       "      <td>-0.111678</td>\n",
       "      <td>0.671102</td>\n",
       "      <td>1.257831</td>\n",
       "      <td>-0.860590</td>\n",
       "      <td>-1.729263</td>\n",
       "      <td>0.559424</td>\n",
       "    </tr>\n",
       "    <tr>\n",
       "      <th>H</th>\n",
       "      <td>0.393427</td>\n",
       "      <td>0.255425</td>\n",
       "      <td>-1.244344</td>\n",
       "      <td>-0.724786</td>\n",
       "      <td>-0.406074</td>\n",
       "      <td>0.648852</td>\n",
       "    </tr>\n",
       "  </tbody>\n",
       "</table>\n",
       "</div>"
      ],
      "text/plain": [
       "     Score1    Score2    Score3    Score4    Score5    Score6\n",
       "B -0.430052  0.459685 -1.306457 -1.168838  1.541668  0.029632\n",
       "C  0.950869 -0.228141  0.142024 -0.104746 -1.924196  0.722727\n",
       "D  0.093967  0.530941 -1.665696 -0.155887 -0.177889  0.624908\n",
       "E -0.126519 -0.859936 -0.526581 -0.791539 -0.485425 -0.986454\n",
       "F -0.163261  0.593701 -0.318123  0.800113 -0.205674  0.430440\n",
       "G -0.111678  0.671102  1.257831 -0.860590 -1.729263  0.559424\n",
       "H  0.393427  0.255425 -1.244344 -0.724786 -0.406074  0.648852"
      ]
     },
     "execution_count": 86,
     "metadata": {},
     "output_type": "execute_result"
    }
   ],
   "source": [
    "df1.drop(\"A\")"
   ]
  },
  {
   "cell_type": "code",
   "execution_count": 87,
   "id": "2402d76c",
   "metadata": {},
   "outputs": [
    {
     "data": {
      "text/html": [
       "<div>\n",
       "<style scoped>\n",
       "    .dataframe tbody tr th:only-of-type {\n",
       "        vertical-align: middle;\n",
       "    }\n",
       "\n",
       "    .dataframe tbody tr th {\n",
       "        vertical-align: top;\n",
       "    }\n",
       "\n",
       "    .dataframe thead th {\n",
       "        text-align: right;\n",
       "    }\n",
       "</style>\n",
       "<table border=\"1\" class=\"dataframe\">\n",
       "  <thead>\n",
       "    <tr style=\"text-align: right;\">\n",
       "      <th></th>\n",
       "      <th>Score2</th>\n",
       "      <th>Score3</th>\n",
       "      <th>Score4</th>\n",
       "      <th>Score5</th>\n",
       "      <th>Score6</th>\n",
       "    </tr>\n",
       "  </thead>\n",
       "  <tbody>\n",
       "    <tr>\n",
       "      <th>A</th>\n",
       "      <td>-0.619067</td>\n",
       "      <td>-0.632012</td>\n",
       "      <td>0.118664</td>\n",
       "      <td>-1.171895</td>\n",
       "      <td>-0.542076</td>\n",
       "    </tr>\n",
       "    <tr>\n",
       "      <th>B</th>\n",
       "      <td>0.459685</td>\n",
       "      <td>-1.306457</td>\n",
       "      <td>-1.168838</td>\n",
       "      <td>1.541668</td>\n",
       "      <td>0.029632</td>\n",
       "    </tr>\n",
       "    <tr>\n",
       "      <th>C</th>\n",
       "      <td>-0.228141</td>\n",
       "      <td>0.142024</td>\n",
       "      <td>-0.104746</td>\n",
       "      <td>-1.924196</td>\n",
       "      <td>0.722727</td>\n",
       "    </tr>\n",
       "    <tr>\n",
       "      <th>D</th>\n",
       "      <td>0.530941</td>\n",
       "      <td>-1.665696</td>\n",
       "      <td>-0.155887</td>\n",
       "      <td>-0.177889</td>\n",
       "      <td>0.624908</td>\n",
       "    </tr>\n",
       "    <tr>\n",
       "      <th>E</th>\n",
       "      <td>-0.859936</td>\n",
       "      <td>-0.526581</td>\n",
       "      <td>-0.791539</td>\n",
       "      <td>-0.485425</td>\n",
       "      <td>-0.986454</td>\n",
       "    </tr>\n",
       "    <tr>\n",
       "      <th>F</th>\n",
       "      <td>0.593701</td>\n",
       "      <td>-0.318123</td>\n",
       "      <td>0.800113</td>\n",
       "      <td>-0.205674</td>\n",
       "      <td>0.430440</td>\n",
       "    </tr>\n",
       "    <tr>\n",
       "      <th>G</th>\n",
       "      <td>0.671102</td>\n",
       "      <td>1.257831</td>\n",
       "      <td>-0.860590</td>\n",
       "      <td>-1.729263</td>\n",
       "      <td>0.559424</td>\n",
       "    </tr>\n",
       "    <tr>\n",
       "      <th>H</th>\n",
       "      <td>0.255425</td>\n",
       "      <td>-1.244344</td>\n",
       "      <td>-0.724786</td>\n",
       "      <td>-0.406074</td>\n",
       "      <td>0.648852</td>\n",
       "    </tr>\n",
       "  </tbody>\n",
       "</table>\n",
       "</div>"
      ],
      "text/plain": [
       "     Score2    Score3    Score4    Score5    Score6\n",
       "A -0.619067 -0.632012  0.118664 -1.171895 -0.542076\n",
       "B  0.459685 -1.306457 -1.168838  1.541668  0.029632\n",
       "C -0.228141  0.142024 -0.104746 -1.924196  0.722727\n",
       "D  0.530941 -1.665696 -0.155887 -0.177889  0.624908\n",
       "E -0.859936 -0.526581 -0.791539 -0.485425 -0.986454\n",
       "F  0.593701 -0.318123  0.800113 -0.205674  0.430440\n",
       "G  0.671102  1.257831 -0.860590 -1.729263  0.559424\n",
       "H  0.255425 -1.244344 -0.724786 -0.406074  0.648852"
      ]
     },
     "execution_count": 87,
     "metadata": {},
     "output_type": "execute_result"
    }
   ],
   "source": [
    "df1.drop(\"Score1\",axis=1)"
   ]
  },
  {
   "cell_type": "code",
   "execution_count": 88,
   "id": "91a08ad1",
   "metadata": {},
   "outputs": [],
   "source": [
    "df=pd.read_csv('CRAN_mirrors.csv')"
   ]
  },
  {
   "cell_type": "code",
   "execution_count": 93,
   "id": "41469609",
   "metadata": {},
   "outputs": [
    {
     "data": {
      "text/html": [
       "<div>\n",
       "<style scoped>\n",
       "    .dataframe tbody tr th:only-of-type {\n",
       "        vertical-align: middle;\n",
       "    }\n",
       "\n",
       "    .dataframe tbody tr th {\n",
       "        vertical-align: top;\n",
       "    }\n",
       "\n",
       "    .dataframe thead th {\n",
       "        text-align: right;\n",
       "    }\n",
       "</style>\n",
       "<table border=\"1\" class=\"dataframe\">\n",
       "  <thead>\n",
       "    <tr style=\"text-align: right;\">\n",
       "      <th></th>\n",
       "      <th>Name</th>\n",
       "      <th>Country</th>\n",
       "      <th>City</th>\n",
       "      <th>URL</th>\n",
       "      <th>Host</th>\n",
       "      <th>Maintainer</th>\n",
       "      <th>OK</th>\n",
       "      <th>CountryCode</th>\n",
       "      <th>Comment</th>\n",
       "    </tr>\n",
       "  </thead>\n",
       "  <tbody>\n",
       "    <tr>\n",
       "      <th>29</th>\n",
       "      <td>China (Nanjing) [https]</td>\n",
       "      <td>China</td>\n",
       "      <td>Nanjing</td>\n",
       "      <td>https://mirrors.nju.edu.cn/CRAN/</td>\n",
       "      <td>eScience Center, Nanjing University</td>\n",
       "      <td>my # yaoge123.com</td>\n",
       "      <td>1</td>\n",
       "      <td>cn</td>\n",
       "      <td>secure_mirror_from_master</td>\n",
       "    </tr>\n",
       "    <tr>\n",
       "      <th>32</th>\n",
       "      <td>China (Shenzhen) [https]</td>\n",
       "      <td>China</td>\n",
       "      <td>Shenzhen</td>\n",
       "      <td>https://mirrors.sustech.edu.cn/CRAN/</td>\n",
       "      <td>Southern University of Science and Technology ...</td>\n",
       "      <td>cra # sustech.edu.cn</td>\n",
       "      <td>1</td>\n",
       "      <td>cn</td>\n",
       "      <td>NaN</td>\n",
       "    </tr>\n",
       "    <tr>\n",
       "      <th>68</th>\n",
       "      <td>Korea (Ulsan) [https]</td>\n",
       "      <td>Korea</td>\n",
       "      <td>Ulsan</td>\n",
       "      <td>https://cran.biodisk.org/</td>\n",
       "      <td>The Genome Institute of UNIST (Ulsan National ...</td>\n",
       "      <td>ldsrman # gmail.com</td>\n",
       "      <td>1</td>\n",
       "      <td>kr</td>\n",
       "      <td>secure_mirror_from_master</td>\n",
       "    </tr>\n",
       "    <tr>\n",
       "      <th>93</th>\n",
       "      <td>USA (IA) [https]</td>\n",
       "      <td>USA</td>\n",
       "      <td>Ames</td>\n",
       "      <td>https://mirror.las.iastate.edu/CRAN/</td>\n",
       "      <td>Iowa State University, Ames, IA</td>\n",
       "      <td>statit # iastate.edu</td>\n",
       "      <td>1</td>\n",
       "      <td>us</td>\n",
       "      <td>secure_mirror_from_master</td>\n",
       "    </tr>\n",
       "    <tr>\n",
       "      <th>3</th>\n",
       "      <td>Australia (Canberra) [https]</td>\n",
       "      <td>Australia</td>\n",
       "      <td>Canberra</td>\n",
       "      <td>https://cran.csiro.au/</td>\n",
       "      <td>CSIRO</td>\n",
       "      <td>ben.tan # csiro.au, Jayesh.joshi # csiro.au, C...</td>\n",
       "      <td>1</td>\n",
       "      <td>au</td>\n",
       "      <td>secure_mirror_from_master</td>\n",
       "    </tr>\n",
       "  </tbody>\n",
       "</table>\n",
       "</div>"
      ],
      "text/plain": [
       "                            Name    Country      City  \\\n",
       "29       China (Nanjing) [https]      China   Nanjing   \n",
       "32      China (Shenzhen) [https]      China  Shenzhen   \n",
       "68         Korea (Ulsan) [https]      Korea     Ulsan   \n",
       "93              USA (IA) [https]        USA      Ames   \n",
       "3   Australia (Canberra) [https]  Australia  Canberra   \n",
       "\n",
       "                                     URL  \\\n",
       "29      https://mirrors.nju.edu.cn/CRAN/   \n",
       "32  https://mirrors.sustech.edu.cn/CRAN/   \n",
       "68             https://cran.biodisk.org/   \n",
       "93  https://mirror.las.iastate.edu/CRAN/   \n",
       "3                 https://cran.csiro.au/   \n",
       "\n",
       "                                                 Host  \\\n",
       "29                eScience Center, Nanjing University   \n",
       "32  Southern University of Science and Technology ...   \n",
       "68  The Genome Institute of UNIST (Ulsan National ...   \n",
       "93                    Iowa State University, Ames, IA   \n",
       "3                                               CSIRO   \n",
       "\n",
       "                                           Maintainer  OK CountryCode  \\\n",
       "29                                  my # yaoge123.com   1          cn   \n",
       "32                               cra # sustech.edu.cn   1          cn   \n",
       "68                                ldsrman # gmail.com   1          kr   \n",
       "93                               statit # iastate.edu   1          us   \n",
       "3   ben.tan # csiro.au, Jayesh.joshi # csiro.au, C...   1          au   \n",
       "\n",
       "                      Comment  \n",
       "29  secure_mirror_from_master  \n",
       "32                        NaN  \n",
       "68  secure_mirror_from_master  \n",
       "93  secure_mirror_from_master  \n",
       "3   secure_mirror_from_master  "
      ]
     },
     "execution_count": 93,
     "metadata": {},
     "output_type": "execute_result"
    }
   ],
   "source": [
    "df.sample(5)"
   ]
  },
  {
   "cell_type": "code",
   "execution_count": 94,
   "id": "ac0ef311",
   "metadata": {},
   "outputs": [
    {
     "data": {
      "text/plain": [
       "(106, 9)"
      ]
     },
     "execution_count": 94,
     "metadata": {},
     "output_type": "execute_result"
    }
   ],
   "source": [
    "df.shape"
   ]
  },
  {
   "cell_type": "code",
   "execution_count": 99,
   "id": "14bfa76d",
   "metadata": {},
   "outputs": [
    {
     "data": {
      "text/plain": [
       "Index(['Name', 'Country', 'City', 'URL', 'Host', 'Maintainer', 'OK',\n",
       "       'CountryCode', 'Comment'],\n",
       "      dtype='object')"
      ]
     },
     "execution_count": 99,
     "metadata": {},
     "output_type": "execute_result"
    }
   ],
   "source": [
    "df.columns"
   ]
  },
  {
   "cell_type": "code",
   "execution_count": 102,
   "id": "096c9759",
   "metadata": {},
   "outputs": [
    {
     "data": {
      "text/plain": [
       "Name           object\n",
       "Country        object\n",
       "City           object\n",
       "URL            object\n",
       "Host           object\n",
       "Maintainer     object\n",
       "OK              int64\n",
       "CountryCode    object\n",
       "Comment        object\n",
       "dtype: object"
      ]
     },
     "execution_count": 102,
     "metadata": {},
     "output_type": "execute_result"
    }
   ],
   "source": [
    "df.dtypes"
   ]
  },
  {
   "cell_type": "code",
   "execution_count": 103,
   "id": "c69bb2d6",
   "metadata": {},
   "outputs": [
    {
     "name": "stdout",
     "output_type": "stream",
     "text": [
      "<class 'pandas.core.frame.DataFrame'>\n",
      "RangeIndex: 106 entries, 0 to 105\n",
      "Data columns (total 9 columns):\n",
      " #   Column       Non-Null Count  Dtype \n",
      "---  ------       --------------  ----- \n",
      " 0   Name         106 non-null    object\n",
      " 1   Country      106 non-null    object\n",
      " 2   City         106 non-null    object\n",
      " 3   URL          106 non-null    object\n",
      " 4   Host         106 non-null    object\n",
      " 5   Maintainer   106 non-null    object\n",
      " 6   OK           106 non-null    int64 \n",
      " 7   CountryCode  106 non-null    object\n",
      " 8   Comment      78 non-null     object\n",
      "dtypes: int64(1), object(8)\n",
      "memory usage: 7.6+ KB\n"
     ]
    }
   ],
   "source": [
    "df.info()"
   ]
  },
  {
   "cell_type": "code",
   "execution_count": 104,
   "id": "2444d4a9",
   "metadata": {},
   "outputs": [
    {
     "data": {
      "text/plain": [
       "Name            0\n",
       "Country         0\n",
       "City            0\n",
       "URL             0\n",
       "Host            0\n",
       "Maintainer      0\n",
       "OK              0\n",
       "CountryCode     0\n",
       "Comment        28\n",
       "dtype: int64"
      ]
     },
     "execution_count": 104,
     "metadata": {},
     "output_type": "execute_result"
    }
   ],
   "source": [
    "df.isnull().sum()"
   ]
  },
  {
   "cell_type": "code",
   "execution_count": null,
   "id": "ac345da7",
   "metadata": {},
   "outputs": [],
   "source": []
  }
 ],
 "metadata": {
  "kernelspec": {
   "display_name": "Python 3 (ipykernel)",
   "language": "python",
   "name": "python3"
  },
  "language_info": {
   "codemirror_mode": {
    "name": "ipython",
    "version": 3
   },
   "file_extension": ".py",
   "mimetype": "text/x-python",
   "name": "python",
   "nbconvert_exporter": "python",
   "pygments_lexer": "ipython3",
   "version": "3.9.7"
  }
 },
 "nbformat": 4,
 "nbformat_minor": 5
}
